{
 "cells": [
  {
   "cell_type": "code",
   "execution_count": 5,
   "metadata": {},
   "outputs": [
    {
     "data": {
      "text/html": [
       "<div>\n",
       "<style scoped>\n",
       "    .dataframe tbody tr th:only-of-type {\n",
       "        vertical-align: middle;\n",
       "    }\n",
       "\n",
       "    .dataframe tbody tr th {\n",
       "        vertical-align: top;\n",
       "    }\n",
       "\n",
       "    .dataframe thead th {\n",
       "        text-align: right;\n",
       "    }\n",
       "</style>\n",
       "<table border=\"1\" class=\"dataframe\">\n",
       "  <thead>\n",
       "    <tr style=\"text-align: right;\">\n",
       "      <th></th>\n",
       "      <th>Class</th>\n",
       "      <th>Alcohol</th>\n",
       "      <th>Malic acid</th>\n",
       "      <th>Ash</th>\n",
       "      <th>Alcalinity of ash</th>\n",
       "      <th>Magnesium</th>\n",
       "      <th>Total phenols</th>\n",
       "      <th>Flavanoids</th>\n",
       "      <th>Nonflavanoid phenols</th>\n",
       "      <th>Proanthocyanins</th>\n",
       "      <th>Color intensity</th>\n",
       "      <th>Hue</th>\n",
       "      <th>diluted wines</th>\n",
       "      <th>Proline</th>\n",
       "    </tr>\n",
       "  </thead>\n",
       "  <tbody>\n",
       "    <tr>\n",
       "      <th>0</th>\n",
       "      <td>1</td>\n",
       "      <td>14.23</td>\n",
       "      <td>1.71</td>\n",
       "      <td>2.43</td>\n",
       "      <td>15.6</td>\n",
       "      <td>127</td>\n",
       "      <td>2.80</td>\n",
       "      <td>3.06</td>\n",
       "      <td>0.28</td>\n",
       "      <td>2.29</td>\n",
       "      <td>5.64</td>\n",
       "      <td>1.04</td>\n",
       "      <td>3.92</td>\n",
       "      <td>1065</td>\n",
       "    </tr>\n",
       "    <tr>\n",
       "      <th>1</th>\n",
       "      <td>1</td>\n",
       "      <td>13.20</td>\n",
       "      <td>1.78</td>\n",
       "      <td>2.14</td>\n",
       "      <td>11.2</td>\n",
       "      <td>100</td>\n",
       "      <td>2.65</td>\n",
       "      <td>2.76</td>\n",
       "      <td>0.26</td>\n",
       "      <td>1.28</td>\n",
       "      <td>4.38</td>\n",
       "      <td>1.05</td>\n",
       "      <td>3.40</td>\n",
       "      <td>1050</td>\n",
       "    </tr>\n",
       "    <tr>\n",
       "      <th>2</th>\n",
       "      <td>1</td>\n",
       "      <td>13.16</td>\n",
       "      <td>2.36</td>\n",
       "      <td>2.67</td>\n",
       "      <td>18.6</td>\n",
       "      <td>101</td>\n",
       "      <td>2.80</td>\n",
       "      <td>3.24</td>\n",
       "      <td>0.30</td>\n",
       "      <td>2.81</td>\n",
       "      <td>5.68</td>\n",
       "      <td>1.03</td>\n",
       "      <td>3.17</td>\n",
       "      <td>1185</td>\n",
       "    </tr>\n",
       "    <tr>\n",
       "      <th>3</th>\n",
       "      <td>1</td>\n",
       "      <td>14.37</td>\n",
       "      <td>1.95</td>\n",
       "      <td>2.50</td>\n",
       "      <td>16.8</td>\n",
       "      <td>113</td>\n",
       "      <td>3.85</td>\n",
       "      <td>3.49</td>\n",
       "      <td>0.24</td>\n",
       "      <td>2.18</td>\n",
       "      <td>7.80</td>\n",
       "      <td>0.86</td>\n",
       "      <td>3.45</td>\n",
       "      <td>1480</td>\n",
       "    </tr>\n",
       "    <tr>\n",
       "      <th>4</th>\n",
       "      <td>1</td>\n",
       "      <td>13.24</td>\n",
       "      <td>2.59</td>\n",
       "      <td>2.87</td>\n",
       "      <td>21.0</td>\n",
       "      <td>118</td>\n",
       "      <td>2.80</td>\n",
       "      <td>2.69</td>\n",
       "      <td>0.39</td>\n",
       "      <td>1.82</td>\n",
       "      <td>4.32</td>\n",
       "      <td>1.04</td>\n",
       "      <td>2.93</td>\n",
       "      <td>735</td>\n",
       "    </tr>\n",
       "    <tr>\n",
       "      <th>...</th>\n",
       "      <td>...</td>\n",
       "      <td>...</td>\n",
       "      <td>...</td>\n",
       "      <td>...</td>\n",
       "      <td>...</td>\n",
       "      <td>...</td>\n",
       "      <td>...</td>\n",
       "      <td>...</td>\n",
       "      <td>...</td>\n",
       "      <td>...</td>\n",
       "      <td>...</td>\n",
       "      <td>...</td>\n",
       "      <td>...</td>\n",
       "      <td>...</td>\n",
       "    </tr>\n",
       "    <tr>\n",
       "      <th>173</th>\n",
       "      <td>3</td>\n",
       "      <td>13.71</td>\n",
       "      <td>5.65</td>\n",
       "      <td>2.45</td>\n",
       "      <td>20.5</td>\n",
       "      <td>95</td>\n",
       "      <td>1.68</td>\n",
       "      <td>0.61</td>\n",
       "      <td>0.52</td>\n",
       "      <td>1.06</td>\n",
       "      <td>7.70</td>\n",
       "      <td>0.64</td>\n",
       "      <td>1.74</td>\n",
       "      <td>740</td>\n",
       "    </tr>\n",
       "    <tr>\n",
       "      <th>174</th>\n",
       "      <td>3</td>\n",
       "      <td>13.40</td>\n",
       "      <td>3.91</td>\n",
       "      <td>2.48</td>\n",
       "      <td>23.0</td>\n",
       "      <td>102</td>\n",
       "      <td>1.80</td>\n",
       "      <td>0.75</td>\n",
       "      <td>0.43</td>\n",
       "      <td>1.41</td>\n",
       "      <td>7.30</td>\n",
       "      <td>0.70</td>\n",
       "      <td>1.56</td>\n",
       "      <td>750</td>\n",
       "    </tr>\n",
       "    <tr>\n",
       "      <th>175</th>\n",
       "      <td>3</td>\n",
       "      <td>13.27</td>\n",
       "      <td>4.28</td>\n",
       "      <td>2.26</td>\n",
       "      <td>20.0</td>\n",
       "      <td>120</td>\n",
       "      <td>1.59</td>\n",
       "      <td>0.69</td>\n",
       "      <td>0.43</td>\n",
       "      <td>1.35</td>\n",
       "      <td>10.20</td>\n",
       "      <td>0.59</td>\n",
       "      <td>1.56</td>\n",
       "      <td>835</td>\n",
       "    </tr>\n",
       "    <tr>\n",
       "      <th>176</th>\n",
       "      <td>3</td>\n",
       "      <td>13.17</td>\n",
       "      <td>2.59</td>\n",
       "      <td>2.37</td>\n",
       "      <td>20.0</td>\n",
       "      <td>120</td>\n",
       "      <td>1.65</td>\n",
       "      <td>0.68</td>\n",
       "      <td>0.53</td>\n",
       "      <td>1.46</td>\n",
       "      <td>9.30</td>\n",
       "      <td>0.60</td>\n",
       "      <td>1.62</td>\n",
       "      <td>840</td>\n",
       "    </tr>\n",
       "    <tr>\n",
       "      <th>177</th>\n",
       "      <td>3</td>\n",
       "      <td>14.13</td>\n",
       "      <td>4.10</td>\n",
       "      <td>2.74</td>\n",
       "      <td>24.5</td>\n",
       "      <td>96</td>\n",
       "      <td>2.05</td>\n",
       "      <td>0.76</td>\n",
       "      <td>0.56</td>\n",
       "      <td>1.35</td>\n",
       "      <td>9.20</td>\n",
       "      <td>0.61</td>\n",
       "      <td>1.60</td>\n",
       "      <td>560</td>\n",
       "    </tr>\n",
       "  </tbody>\n",
       "</table>\n",
       "<p>178 rows × 14 columns</p>\n",
       "</div>"
      ],
      "text/plain": [
       "     Class  Alcohol  Malic acid   Ash  Alcalinity of ash  Magnesium  \\\n",
       "0        1    14.23        1.71  2.43               15.6        127   \n",
       "1        1    13.20        1.78  2.14               11.2        100   \n",
       "2        1    13.16        2.36  2.67               18.6        101   \n",
       "3        1    14.37        1.95  2.50               16.8        113   \n",
       "4        1    13.24        2.59  2.87               21.0        118   \n",
       "..     ...      ...         ...   ...                ...        ...   \n",
       "173      3    13.71        5.65  2.45               20.5         95   \n",
       "174      3    13.40        3.91  2.48               23.0        102   \n",
       "175      3    13.27        4.28  2.26               20.0        120   \n",
       "176      3    13.17        2.59  2.37               20.0        120   \n",
       "177      3    14.13        4.10  2.74               24.5         96   \n",
       "\n",
       "     Total phenols  Flavanoids  Nonflavanoid phenols  Proanthocyanins  \\\n",
       "0             2.80        3.06                  0.28             2.29   \n",
       "1             2.65        2.76                  0.26             1.28   \n",
       "2             2.80        3.24                  0.30             2.81   \n",
       "3             3.85        3.49                  0.24             2.18   \n",
       "4             2.80        2.69                  0.39             1.82   \n",
       "..             ...         ...                   ...              ...   \n",
       "173           1.68        0.61                  0.52             1.06   \n",
       "174           1.80        0.75                  0.43             1.41   \n",
       "175           1.59        0.69                  0.43             1.35   \n",
       "176           1.65        0.68                  0.53             1.46   \n",
       "177           2.05        0.76                  0.56             1.35   \n",
       "\n",
       "     Color intensity   Hue  diluted wines  Proline      \n",
       "0               5.64  1.04           3.92         1065  \n",
       "1               4.38  1.05           3.40         1050  \n",
       "2               5.68  1.03           3.17         1185  \n",
       "3               7.80  0.86           3.45         1480  \n",
       "4               4.32  1.04           2.93          735  \n",
       "..               ...   ...            ...          ...  \n",
       "173             7.70  0.64           1.74          740  \n",
       "174             7.30  0.70           1.56          750  \n",
       "175            10.20  0.59           1.56          835  \n",
       "176             9.30  0.60           1.62          840  \n",
       "177             9.20  0.61           1.60          560  \n",
       "\n",
       "[178 rows x 14 columns]"
      ]
     },
     "execution_count": 5,
     "metadata": {},
     "output_type": "execute_result"
    }
   ],
   "source": [
    "import pandas as pd\n",
    "df_winedataset=pd.read_csv('winedataset.csv')\n",
    "df_winedataset"
   ]
  },
  {
   "cell_type": "code",
   "execution_count": 7,
   "metadata": {},
   "outputs": [
    {
     "data": {
      "text/plain": [
       "<matplotlib.axes._subplots.AxesSubplot at 0x22ecfc9eb48>"
      ]
     },
     "execution_count": 7,
     "metadata": {},
     "output_type": "execute_result"
    },
    {
     "data": {
      "image/png": "[encoded data removed]",
      "text/plain": [
       "<Figure size 432x288 with 2 Axes>"
      ]
     },
     "metadata": {
      "needs_background": "light"
     },
     "output_type": "display_data"
    }
   ],
   "source": [
    "#Check the null value present in database using heatmap\n",
    "import seaborn as sns\n",
    "import matplotlib.pyplot as plt\n",
    "sns.heatmap(df_winedataset.isnull(),annot=True)"
   ]
  },
  {
   "cell_type": "code",
   "execution_count": 8,
   "metadata": {},
   "outputs": [
    {
     "data": {
      "text/plain": [
       "Class                   0\n",
       "Alcohol                 0\n",
       "Malic acid              0\n",
       "Ash                     0\n",
       "Alcalinity of ash       0\n",
       "Magnesium               0\n",
       "Total phenols           0\n",
       "Flavanoids              0\n",
       "Nonflavanoid phenols    0\n",
       "Proanthocyanins         0\n",
       "Color intensity         0\n",
       "Hue                     0\n",
       "diluted wines           0\n",
       "Proline                 0\n",
       "dtype: int64"
      ]
     },
     "execution_count": 8,
     "metadata": {},
     "output_type": "execute_result"
    }
   ],
   "source": [
    "#Check the null value present in database using visualisation\n",
    "df_winedataset.isnull().sum()"
   ]
  },
  {
   "cell_type": "code",
   "execution_count": 11,
   "metadata": {},
   "outputs": [
    {
     "name": "stdout",
     "output_type": "stream",
     "text": [
      "(178, 14)\n",
      "(168, 14)\n"
     ]
    }
   ],
   "source": [
    "#check the outliers present or not in dataset\n",
    "from scipy.stats import zscore\n",
    "z_score=abs(zscore(df_winedataset))\n",
    "print(df_winedataset.shape)\n",
    "df_winedataset_final=df_winedataset.loc[(z_score<3).all(axis=1)]\n",
    "print(df_winedataset_final.shape)"
   ]
  },
  {
   "cell_type": "code",
   "execution_count": 12,
   "metadata": {},
   "outputs": [
    {
     "data": {
      "text/plain": [
       "<function matplotlib.pyplot.show(*args, **kw)>"
      ]
     },
     "execution_count": 12,
     "metadata": {},
     "output_type": "execute_result"
    },
    {
     "data": {
      "image/png": "[encoded data removed]",
      "text/plain": [
       "<Figure size 432x288 with 1 Axes>"
      ]
     },
     "metadata": {
      "needs_background": "light"
     },
     "output_type": "display_data"
    }
   ],
   "source": [
    "#check the class of wine with respect to alcohol\n",
    "sns.lineplot(x=df_winedataset['Class'],y=df_winedataset['Alcohol'])\n",
    "plt.show"
   ]
  },
  {
   "cell_type": "code",
   "execution_count": 15,
   "metadata": {},
   "outputs": [
    {
     "data": {
      "text/plain": [
       "<function matplotlib.pyplot.show(*args, **kw)>"
      ]
     },
     "execution_count": 15,
     "metadata": {},
     "output_type": "execute_result"
    },
    {
     "data": {
      "image/png": "[encoded data removed]",
      "text/plain": [
       "<Figure size 432x288 with 1 Axes>"
      ]
     },
     "metadata": {
      "needs_background": "light"
     },
     "output_type": "display_data"
    }
   ],
   "source": [
    "sns.lineplot(x=df_winedataset['Class'],y=df_winedataset['Malic acid'])\n",
    "plt.show"
   ]
  },
  {
   "cell_type": "code",
   "execution_count": 16,
   "metadata": {},
   "outputs": [
    {
     "data": {
      "text/plain": [
       "<matplotlib.axes._subplots.AxesSubplot at 0x22ed195dd88>"
      ]
     },
     "execution_count": 16,
     "metadata": {},
     "output_type": "execute_result"
    },
    {
     "data": {
      "image/png": "[encoded data removed]",
      "text/plain": [
       "<Figure size 432x288 with 1 Axes>"
      ]
     },
     "metadata": {
      "needs_background": "light"
     },
     "output_type": "display_data"
    }
   ],
   "source": [
    "sns.lineplot(x=df_winedataset['Class'],y=df_winedataset['Ash'])"
   ]
  },
  {
   "cell_type": "code",
   "execution_count": 18,
   "metadata": {},
   "outputs": [
    {
     "data": {
      "text/plain": [
       "<function matplotlib.pyplot.show(*args, **kw)>"
      ]
     },
     "execution_count": 18,
     "metadata": {},
     "output_type": "execute_result"
    },
    {
     "data": {
      "image/png": "[encoded data removed]",
      "text/plain": [
       "<Figure size 432x288 with 1 Axes>"
      ]
     },
     "metadata": {
      "needs_background": "light"
     },
     "output_type": "display_data"
    }
   ],
   "source": [
    "sns.lineplot(x=df_winedataset['Class'],y=df_winedataset['Alcalinity of ash'])\n",
    "plt.show"
   ]
  },
  {
   "cell_type": "code",
   "execution_count": 19,
   "metadata": {},
   "outputs": [
    {
     "data": {
      "text/plain": [
       "<function matplotlib.pyplot.show(*args, **kw)>"
      ]
     },
     "execution_count": 19,
     "metadata": {},
     "output_type": "execute_result"
    },
    {
     "data": {
      "image/png": "[encoded data removed]",
      "text/plain": [
       "<Figure size 432x288 with 1 Axes>"
      ]
     },
     "metadata": {
      "needs_background": "light"
     },
     "output_type": "display_data"
    }
   ],
   "source": [
    "sns.lineplot(x=df_winedataset['Class'],y=df_winedataset['Magnesium'])\n",
    "plt.show"
   ]
  },
  {
   "cell_type": "code",
   "execution_count": 20,
   "metadata": {},
   "outputs": [
    {
     "data": {
      "text/plain": [
       "<function matplotlib.pyplot.show(*args, **kw)>"
      ]
     },
     "execution_count": 20,
     "metadata": {},
     "output_type": "execute_result"
    },
    {
     "data": {
      "image/png": "[encoded data removed]",
      "text/plain": [
       "<Figure size 432x288 with 1 Axes>"
      ]
     },
     "metadata": {
      "needs_background": "light"
     },
     "output_type": "display_data"
    }
   ],
   "source": [
    "sns.lineplot(x=df_winedataset['Class'],y=df_winedataset['Total phenols'])\n",
    "plt.show"
   ]
  },
  {
   "cell_type": "code",
   "execution_count": 21,
   "metadata": {},
   "outputs": [
    {
     "data": {
      "text/plain": [
       "<function matplotlib.pyplot.show(*args, **kw)>"
      ]
     },
     "execution_count": 21,
     "metadata": {},
     "output_type": "execute_result"
    },
    {
     "data": {
      "image/png": "[encoded data removed]",
      "text/plain": [
       "<Figure size 432x288 with 1 Axes>"
      ]
     },
     "metadata": {
      "needs_background": "light"
     },
     "output_type": "display_data"
    }
   ],
   "source": [
    "sns.lineplot(x=df_winedataset['Class'],y=df_winedataset['Flavanoids'])\n",
    "plt.show"
   ]
  },
  {
   "cell_type": "code",
   "execution_count": 22,
   "metadata": {},
   "outputs": [
    {
     "data": {
      "text/plain": [
       "<function matplotlib.pyplot.show(*args, **kw)>"
      ]
     },
     "execution_count": 22,
     "metadata": {},
     "output_type": "execute_result"
    },
    {
     "data": {
      "image/png": "[encoded data removed]",
      "text/plain": [
       "<Figure size 432x288 with 1 Axes>"
      ]
     },
     "metadata": {
      "needs_background": "light"
     },
     "output_type": "display_data"
    }
   ],
   "source": [
    "sns.lineplot(x=df_winedataset['Class'],y=df_winedataset['Nonflavanoid phenols'])\n",
    "plt.show"
   ]
  },
  {
   "cell_type": "code",
   "execution_count": 23,
   "metadata": {},
   "outputs": [
    {
     "data": {
      "text/plain": [
       "<function matplotlib.pyplot.show(*args, **kw)>"
      ]
     },
     "execution_count": 23,
     "metadata": {},
     "output_type": "execute_result"
    },
    {
     "data": {
      "image/png": "[encoded data removed]",
      "text/plain": [
       "<Figure size 432x288 with 1 Axes>"
      ]
     },
     "metadata": {
      "needs_background": "light"
     },
     "output_type": "display_data"
    }
   ],
   "source": [
    "sns.lineplot(x=df_winedataset['Class'],y=df_winedataset['Proanthocyanins'])\n",
    "plt.show"
   ]
  },
  {
   "cell_type": "code",
   "execution_count": 24,
   "metadata": {},
   "outputs": [
    {
     "data": {
      "text/plain": [
       "<function matplotlib.pyplot.show(*args, **kw)>"
      ]
     },
     "execution_count": 24,
     "metadata": {},
     "output_type": "execute_result"
    },
    {
     "data": {
      "image/png": "[encoded data removed]",
      "text/plain": [
       "<Figure size 432x288 with 1 Axes>"
      ]
     },
     "metadata": {
      "needs_background": "light"
     },
     "output_type": "display_data"
    }
   ],
   "source": [
    "sns.lineplot(x=df_winedataset['Class'],y=df_winedataset['Color intensity'])\n",
    "plt.show"
   ]
  },
  {
   "cell_type": "code",
   "execution_count": 25,
   "metadata": {},
   "outputs": [
    {
     "data": {
      "text/plain": [
       "<function matplotlib.pyplot.show(*args, **kw)>"
      ]
     },
     "execution_count": 25,
     "metadata": {},
     "output_type": "execute_result"
    },
    {
     "data": {
      "image/png": "[encoded data removed]",
      "text/plain": [
       "<Figure size 432x288 with 1 Axes>"
      ]
     },
     "metadata": {
      "needs_background": "light"
     },
     "output_type": "display_data"
    }
   ],
   "source": [
    "# check the aveage class of wine according to alcohol in barplot\n",
    "sns.barplot(x=df_winedataset['Class'],y=df_winedataset['Alcohol'],data=df_winedataset)\n",
    "plt.show"
   ]
  },
  {
   "cell_type": "code",
   "execution_count": 26,
   "metadata": {},
   "outputs": [
    {
     "data": {
      "text/plain": [
       "<function matplotlib.pyplot.show(*args, **kw)>"
      ]
     },
     "execution_count": 26,
     "metadata": {},
     "output_type": "execute_result"
    },
    {
     "data": {
      "image/png": "[encoded data removed]",
      "text/plain": [
       "<Figure size 432x288 with 1 Axes>"
      ]
     },
     "metadata": {
      "needs_background": "light"
     },
     "output_type": "display_data"
    }
   ],
   "source": [
    "sns.barplot(x=df_winedataset['Class'],y=df_winedataset['diluted wines'],data=df_winedataset)\n",
    "plt.show"
   ]
  },
  {
   "cell_type": "code",
   "execution_count": 28,
   "metadata": {},
   "outputs": [
    {
     "data": {
      "text/plain": [
       "(array([59.,  0.,  0.,  0.,  0., 71.,  0.,  0.,  0., 48.]),\n",
       " array([1. , 1.2, 1.4, 1.6, 1.8, 2. , 2.2, 2.4, 2.6, 2.8, 3. ]),\n",
       " <a list of 10 Patch objects>)"
      ]
     },
     "execution_count": 28,
     "metadata": {},
     "output_type": "execute_result"
    },
    {
     "data": {
      "image/png": "[encoded data removed]",
      "text/plain": [
       "<Figure size 432x288 with 1 Axes>"
      ]
     },
     "metadata": {
      "needs_background": "light"
     },
     "output_type": "display_data"
    }
   ],
   "source": [
    "#histogram of of class of wines\n",
    "plt.hist(x='Class',bins=10,data=df_winedataset)"
   ]
  },
  {
   "cell_type": "code",
   "execution_count": 29,
   "metadata": {},
   "outputs": [
    {
     "data": {
      "text/plain": [
       "(array([ 1., 10., 19., 31., 21., 27., 25., 25., 17.,  2.]),\n",
       " array([11.03, 11.41, 11.79, 12.17, 12.55, 12.93, 13.31, 13.69, 14.07,\n",
       "        14.45, 14.83]),\n",
       " <a list of 10 Patch objects>)"
      ]
     },
     "execution_count": 29,
     "metadata": {},
     "output_type": "execute_result"
    },
    {
     "data": {
      "image/png": "[encoded data removed]",
      "text/plain": [
       "<Figure size 432x288 with 1 Axes>"
      ]
     },
     "metadata": {
      "needs_background": "light"
     },
     "output_type": "display_data"
    }
   ],
   "source": [
    "#histogram of of Alcohol of wines\n",
    "plt.hist(x='Alcohol',bins=10,data=df_winedataset)"
   ]
  },
  {
   "cell_type": "code",
   "execution_count": 30,
   "metadata": {},
   "outputs": [
    {
     "data": {
      "text/plain": [
       "Class                   0.107431\n",
       "Alcohol                -0.051482\n",
       "Malic acid              1.039651\n",
       "Ash                    -0.176699\n",
       "Alcalinity of ash       0.213047\n",
       "Magnesium               1.098191\n",
       "Total phenols           0.086639\n",
       "Flavanoids              0.025344\n",
       "Nonflavanoid phenols    0.450151\n",
       "Proanthocyanins         0.517137\n",
       "Color intensity         0.868585\n",
       "Hue                     0.021091\n",
       "diluted wines          -0.307285\n",
       "Proline                 0.767822\n",
       "dtype: float64"
      ]
     },
     "execution_count": 30,
     "metadata": {},
     "output_type": "execute_result"
    }
   ],
   "source": [
    "#skewness of dataset\n",
    "df_winedataset.skew()"
   ]
  },
  {
   "cell_type": "code",
   "execution_count": 31,
   "metadata": {},
   "outputs": [],
   "source": [
    "x=df_winedataset[['Class']]\n",
    "y=df_winedataset[['Alcohol']]"
   ]
  },
  {
   "cell_type": "code",
   "execution_count": 44,
   "metadata": {},
   "outputs": [
    {
     "data": {
      "text/plain": [
       "array([[-1.21394365],\n",
       "       [-1.21394365],\n",
       "       [-1.21394365],\n",
       "       [-1.21394365],\n",
       "       [-1.21394365],\n",
       "       [-1.21394365],\n",
       "       [-1.21394365],\n",
       "       [-1.21394365],\n",
       "       [-1.21394365],\n",
       "       [-1.21394365],\n",
       "       [-1.21394365],\n",
       "       [-1.21394365],\n",
       "       [-1.21394365],\n",
       "       [-1.21394365],\n",
       "       [-1.21394365],\n",
       "       [-1.21394365],\n",
       "       [-1.21394365],\n",
       "       [-1.21394365],\n",
       "       [-1.21394365],\n",
       "       [-1.21394365],\n",
       "       [-1.21394365],\n",
       "       [-1.21394365],\n",
       "       [-1.21394365],\n",
       "       [-1.21394365],\n",
       "       [-1.21394365],\n",
       "       [-1.21394365],\n",
       "       [-1.21394365],\n",
       "       [-1.21394365],\n",
       "       [-1.21394365],\n",
       "       [-1.21394365],\n",
       "       [-1.21394365],\n",
       "       [-1.21394365],\n",
       "       [-1.21394365],\n",
       "       [-1.21394365],\n",
       "       [-1.21394365],\n",
       "       [-1.21394365],\n",
       "       [-1.21394365],\n",
       "       [-1.21394365],\n",
       "       [-1.21394365],\n",
       "       [-1.21394365],\n",
       "       [-1.21394365],\n",
       "       [-1.21394365],\n",
       "       [-1.21394365],\n",
       "       [-1.21394365],\n",
       "       [-1.21394365],\n",
       "       [-1.21394365],\n",
       "       [-1.21394365],\n",
       "       [-1.21394365],\n",
       "       [-1.21394365],\n",
       "       [-1.21394365],\n",
       "       [-1.21394365],\n",
       "       [-1.21394365],\n",
       "       [-1.21394365],\n",
       "       [-1.21394365],\n",
       "       [-1.21394365],\n",
       "       [-1.21394365],\n",
       "       [-1.21394365],\n",
       "       [-1.21394365],\n",
       "       [-1.21394365],\n",
       "       [ 0.07996036],\n",
       "       [ 0.07996036],\n",
       "       [ 0.07996036],\n",
       "       [ 0.07996036],\n",
       "       [ 0.07996036],\n",
       "       [ 0.07996036],\n",
       "       [ 0.07996036],\n",
       "       [ 0.07996036],\n",
       "       [ 0.07996036],\n",
       "       [ 0.07996036],\n",
       "       [ 0.07996036],\n",
       "       [ 0.07996036],\n",
       "       [ 0.07996036],\n",
       "       [ 0.07996036],\n",
       "       [ 0.07996036],\n",
       "       [ 0.07996036],\n",
       "       [ 0.07996036],\n",
       "       [ 0.07996036],\n",
       "       [ 0.07996036],\n",
       "       [ 0.07996036],\n",
       "       [ 0.07996036],\n",
       "       [ 0.07996036],\n",
       "       [ 0.07996036],\n",
       "       [ 0.07996036],\n",
       "       [ 0.07996036],\n",
       "       [ 0.07996036],\n",
       "       [ 0.07996036],\n",
       "       [ 0.07996036],\n",
       "       [ 0.07996036],\n",
       "       [ 0.07996036],\n",
       "       [ 0.07996036],\n",
       "       [ 0.07996036],\n",
       "       [ 0.07996036],\n",
       "       [ 0.07996036],\n",
       "       [ 0.07996036],\n",
       "       [ 0.07996036],\n",
       "       [ 0.07996036],\n",
       "       [ 0.07996036],\n",
       "       [ 0.07996036],\n",
       "       [ 0.07996036],\n",
       "       [ 0.07996036],\n",
       "       [ 0.07996036],\n",
       "       [ 0.07996036],\n",
       "       [ 0.07996036],\n",
       "       [ 0.07996036],\n",
       "       [ 0.07996036],\n",
       "       [ 0.07996036],\n",
       "       [ 0.07996036],\n",
       "       [ 0.07996036],\n",
       "       [ 0.07996036],\n",
       "       [ 0.07996036],\n",
       "       [ 0.07996036],\n",
       "       [ 0.07996036],\n",
       "       [ 0.07996036],\n",
       "       [ 0.07996036],\n",
       "       [ 0.07996036],\n",
       "       [ 0.07996036],\n",
       "       [ 0.07996036],\n",
       "       [ 0.07996036],\n",
       "       [ 0.07996036],\n",
       "       [ 0.07996036],\n",
       "       [ 0.07996036],\n",
       "       [ 0.07996036],\n",
       "       [ 0.07996036],\n",
       "       [ 0.07996036],\n",
       "       [ 0.07996036],\n",
       "       [ 0.07996036],\n",
       "       [ 0.07996036],\n",
       "       [ 0.07996036],\n",
       "       [ 0.07996036],\n",
       "       [ 0.07996036],\n",
       "       [ 1.37386437],\n",
       "       [ 1.37386437],\n",
       "       [ 1.37386437],\n",
       "       [ 1.37386437],\n",
       "       [ 1.37386437],\n",
       "       [ 1.37386437],\n",
       "       [ 1.37386437],\n",
       "       [ 1.37386437],\n",
       "       [ 1.37386437],\n",
       "       [ 1.37386437],\n",
       "       [ 1.37386437],\n",
       "       [ 1.37386437],\n",
       "       [ 1.37386437],\n",
       "       [ 1.37386437],\n",
       "       [ 1.37386437],\n",
       "       [ 1.37386437],\n",
       "       [ 1.37386437],\n",
       "       [ 1.37386437],\n",
       "       [ 1.37386437],\n",
       "       [ 1.37386437],\n",
       "       [ 1.37386437],\n",
       "       [ 1.37386437],\n",
       "       [ 1.37386437],\n",
       "       [ 1.37386437],\n",
       "       [ 1.37386437],\n",
       "       [ 1.37386437],\n",
       "       [ 1.37386437],\n",
       "       [ 1.37386437],\n",
       "       [ 1.37386437],\n",
       "       [ 1.37386437],\n",
       "       [ 1.37386437],\n",
       "       [ 1.37386437],\n",
       "       [ 1.37386437],\n",
       "       [ 1.37386437],\n",
       "       [ 1.37386437],\n",
       "       [ 1.37386437],\n",
       "       [ 1.37386437],\n",
       "       [ 1.37386437],\n",
       "       [ 1.37386437],\n",
       "       [ 1.37386437],\n",
       "       [ 1.37386437],\n",
       "       [ 1.37386437],\n",
       "       [ 1.37386437],\n",
       "       [ 1.37386437],\n",
       "       [ 1.37386437],\n",
       "       [ 1.37386437],\n",
       "       [ 1.37386437],\n",
       "       [ 1.37386437]])"
      ]
     },
     "execution_count": 44,
     "metadata": {},
     "output_type": "execute_result"
    }
   ],
   "source": [
    "from sklearn.preprocessing import StandardScaler\n",
    "sc=StandardScaler()\n",
    "x=sc.fit_transform(x)\n",
    "x"
   ]
  },
  {
   "cell_type": "code",
   "execution_count": 52,
   "metadata": {},
   "outputs": [
    {
     "name": "stdout",
     "output_type": "stream",
     "text": [
      "r2 score corresponding to random state:  42 is:  0.1457226214937415\n",
      "r2 score corresponding to random state:  43 is:  0.14776631124594464\n",
      "r2 score corresponding to random state:  44 is:  0.12761110229758033\n",
      "r2 score corresponding to random state:  45 is:  0.015339573181530675\n",
      "r2 score corresponding to random state:  46 is:  0.14745786823688745\n",
      "r2 score corresponding to random state:  47 is:  -0.003605362532782541\n",
      "r2 score corresponding to random state:  48 is:  0.018362413172791747\n",
      "r2 score corresponding to random state:  49 is:  0.06127621450597798\n",
      "r2 score corresponding to random state:  50 is:  0.09159214894729983\n",
      "r2 score corresponding to random state:  51 is:  0.13031298082764975\n",
      "r2 score corresponding to random state:  52 is:  0.022080986208741327\n",
      "r2 score corresponding to random state:  53 is:  -0.05395581513455072\n",
      "r2 score corresponding to random state:  54 is:  -0.1488957508723514\n",
      "r2 score corresponding to random state:  55 is:  0.02713356613614548\n",
      "r2 score corresponding to random state:  56 is:  0.14154403132479043\n",
      "r2 score corresponding to random state:  57 is:  0.18752935055143916\n",
      "r2 score corresponding to random state:  58 is:  -0.0018738061355860758\n",
      "r2 score corresponding to random state:  59 is:  0.03416089018199997\n",
      "r2 score corresponding to random state:  60 is:  0.11526539135258562\n",
      "r2 score corresponding to random state:  61 is:  0.04981013753956787\n",
      "r2 score corresponding to random state:  62 is:  -0.00046995928858173386\n",
      "r2 score corresponding to random state:  63 is:  -0.08942168874851886\n",
      "r2 score corresponding to random state:  64 is:  -0.12778689859890946\n",
      "r2 score corresponding to random state:  65 is:  -0.049588075580531354\n",
      "r2 score corresponding to random state:  66 is:  0.2000388361210219\n",
      "r2 score corresponding to random state:  67 is:  0.1491387516107422\n",
      "r2 score corresponding to random state:  68 is:  0.12788601964323665\n",
      "r2 score corresponding to random state:  69 is:  0.05566971048811642\n",
      "r2 score corresponding to random state:  70 is:  -0.018303744674773137\n",
      "r2 score corresponding to random state:  71 is:  -0.011613580030456205\n",
      "r2 score corresponding to random state:  72 is:  -0.20073958802427905\n",
      "r2 score corresponding to random state:  73 is:  -0.027513103414223306\n",
      "r2 score corresponding to random state:  74 is:  -0.0010271378919255447\n",
      "r2 score corresponding to random state:  75 is:  0.17111286907440693\n",
      "r2 score corresponding to random state:  76 is:  0.12031218147600575\n",
      "r2 score corresponding to random state:  77 is:  0.13353535220660173\n",
      "r2 score corresponding to random state:  78 is:  0.07125859167363335\n",
      "r2 score corresponding to random state:  79 is:  0.006927872288784109\n",
      "r2 score corresponding to random state:  80 is:  0.05616070626760239\n",
      "r2 score corresponding to random state:  81 is:  0.10869433083798796\n",
      "r2 score corresponding to random state:  82 is:  0.16156905909770425\n",
      "r2 score corresponding to random state:  83 is:  0.050797183092000875\n",
      "r2 score corresponding to random state:  84 is:  0.15788104775533063\n",
      "r2 score corresponding to random state:  85 is:  0.13462340143402762\n",
      "r2 score corresponding to random state:  86 is:  0.018245371844416214\n",
      "r2 score corresponding to random state:  87 is:  0.1956315700805693\n",
      "r2 score corresponding to random state:  88 is:  0.15575095962896346\n",
      "r2 score corresponding to random state:  89 is:  0.06496208344452026\n",
      "r2 score corresponding to random state:  90 is:  0.09127553595216853\n",
      "r2 score corresponding to random state:  91 is:  0.022756876433670303\n",
      "r2 score corresponding to random state:  92 is:  -0.01233619142796849\n",
      "r2 score corresponding to random state:  93 is:  0.08035457978046545\n",
      "r2 score corresponding to random state:  94 is:  0.1090887963774585\n",
      "r2 score corresponding to random state:  95 is:  -0.12380147503395622\n",
      "r2 score corresponding to random state:  96 is:  0.07133554956511379\n",
      "r2 score corresponding to random state:  97 is:  0.012183054238760316\n",
      "r2 score corresponding to random state:  98 is:  0.10685122361344024\n",
      "r2 score corresponding to random state:  99 is:  -0.12002570907382437\n",
      "r2 score corresponding to random state:  100 is:  -0.1332578232027528\n",
      "r2 score corresponding to random state:  101 is:  0.07210497607819732\n",
      "r2 score corresponding to random state:  102 is:  0.08784675255752494\n",
      "r2 score corresponding to random state:  103 is:  0.10552981729636735\n",
      "r2 score corresponding to random state:  104 is:  0.12269629934044357\n",
      "r2 score corresponding to random state:  105 is:  0.030855786923216444\n",
      "r2 score corresponding to random state:  106 is:  0.18779936074012704\n",
      "r2 score corresponding to random state:  107 is:  0.2017560748984164\n",
      "r2 score corresponding to random state:  108 is:  0.07985082166700608\n",
      "r2 score corresponding to random state:  109 is:  0.12848584310087208\n",
      "r2 score corresponding to random state:  110 is:  0.034534967264256755\n",
      "r2 score corresponding to random state:  111 is:  0.009091558040068781\n",
      "r2 score corresponding to random state:  112 is:  0.1578832649891413\n",
      "r2 score corresponding to random state:  113 is:  0.12338245823324501\n",
      "r2 score corresponding to random state:  114 is:  0.09888233254644674\n",
      "r2 score corresponding to random state:  115 is:  0.10178667023668553\n",
      "r2 score corresponding to random state:  116 is:  -0.0295395235028042\n",
      "r2 score corresponding to random state:  117 is:  0.16018260765254133\n",
      "r2 score corresponding to random state:  118 is:  -0.0233104635088619\n",
      "r2 score corresponding to random state:  119 is:  0.05107017020143301\n",
      "r2 score corresponding to random state:  120 is:  0.1932141757937299\n",
      "r2 score corresponding to random state:  121 is:  0.0661897186030661\n",
      "r2 score corresponding to random state:  122 is:  -0.002542185852964618\n",
      "r2 score corresponding to random state:  123 is:  -0.06197465732966534\n",
      "r2 score corresponding to random state:  124 is:  -0.029923934264000973\n",
      "r2 score corresponding to random state:  125 is:  0.07453141023551679\n",
      "r2 score corresponding to random state:  126 is:  0.02808392564907425\n",
      "r2 score corresponding to random state:  127 is:  0.15713876392030524\n",
      "r2 score corresponding to random state:  128 is:  0.13313795685782803\n",
      "r2 score corresponding to random state:  129 is:  0.07392850733832035\n",
      "r2 score corresponding to random state:  130 is:  -0.004791668485002454\n",
      "r2 score corresponding to random state:  131 is:  0.08219592246448248\n",
      "r2 score corresponding to random state:  132 is:  -0.023333314325134413\n",
      "r2 score corresponding to random state:  133 is:  -0.06355436957066818\n",
      "r2 score corresponding to random state:  134 is:  0.061048980121929275\n",
      "r2 score corresponding to random state:  135 is:  -0.0612443032530845\n",
      "r2 score corresponding to random state:  136 is:  0.03137506908170884\n",
      "r2 score corresponding to random state:  137 is:  0.09604543910435182\n",
      "r2 score corresponding to random state:  138 is:  0.052811795272043494\n",
      "r2 score corresponding to random state:  139 is:  0.09240255600459613\n",
      "r2 score corresponding to random state:  140 is:  0.06798912537645885\n",
      "r2 score corresponding to random state:  141 is:  0.03805345219743028\n",
      "r2 score corresponding to random state:  142 is:  0.15914125857068406\n",
      "r2 score corresponding to random state:  143 is:  -0.05962146602015661\n",
      "r2 score corresponding to random state:  144 is:  -0.0628229500485269\n",
      "r2 score corresponding to random state:  145 is:  0.07878972032017972\n",
      "r2 score corresponding to random state:  146 is:  0.14815137383246313\n",
      "r2 score corresponding to random state:  147 is:  -0.1852120099948953\n",
      "r2 score corresponding to random state:  148 is:  0.16830501132892461\n",
      "r2 score corresponding to random state:  149 is:  0.03578089241151172\n",
      "r2 score corresponding to random state:  150 is:  0.19506855390734068\n",
      "r2 score corresponding to random state:  151 is:  0.05841770678264335\n",
      "r2 score corresponding to random state:  152 is:  0.21892033274115041\n",
      "r2 score corresponding to random state:  153 is:  0.013076742842452194\n",
      "r2 score corresponding to random state:  154 is:  0.18651426087847578\n",
      "r2 score corresponding to random state:  155 is:  0.10333438675627615\n",
      "r2 score corresponding to random state:  156 is:  0.13820062807942135\n",
      "r2 score corresponding to random state:  157 is:  0.167140865052263\n",
      "r2 score corresponding to random state:  158 is:  0.0542917014558687\n",
      "r2 score corresponding to random state:  159 is:  0.06214891917147569\n",
      "r2 score corresponding to random state:  160 is:  0.021973423377378065\n",
      "r2 score corresponding to random state:  161 is:  0.12639231378745341\n",
      "r2 score corresponding to random state:  162 is:  -0.0723731798881937\n",
      "r2 score corresponding to random state:  163 is:  0.23744307139597964\n",
      "r2 score corresponding to random state:  164 is:  0.13796953251844135\n",
      "r2 score corresponding to random state:  165 is:  0.08801335979401781\n",
      "r2 score corresponding to random state:  166 is:  0.14420783630344558\n",
      "r2 score corresponding to random state:  167 is:  0.09897770951130347\n",
      "r2 score corresponding to random state:  168 is:  0.016318780213161355\n",
      "r2 score corresponding to random state:  169 is:  0.1245709871505859\n",
      "r2 score corresponding to random state:  170 is:  0.035114062579142624\n",
      "r2 score corresponding to random state:  171 is:  -0.07568760043976641\n",
      "r2 score corresponding to random state:  172 is:  0.03835478833915029\n",
      "r2 score corresponding to random state:  173 is:  -0.009322128553073794\n",
      "r2 score corresponding to random state:  174 is:  0.14919264129922227\n",
      "r2 score corresponding to random state:  175 is:  0.2164651420518806\n",
      "r2 score corresponding to random state:  176 is:  0.16635168810408874\n",
      "r2 score corresponding to random state:  177 is:  0.09702494847954934\n",
      "r2 score corresponding to random state:  178 is:  -0.03911760958270705\n",
      "r2 score corresponding to random state:  179 is:  0.0346530467766043\n",
      "r2 score corresponding to random state:  180 is:  -0.16013230680232282\n",
      "r2 score corresponding to random state:  181 is:  -0.031860050559173736\n",
      "r2 score corresponding to random state:  182 is:  0.025709907613205574\n",
      "r2 score corresponding to random state:  183 is:  0.14729155635544566\n",
      "r2 score corresponding to random state:  184 is:  -0.041211065708385064\n",
      "r2 score corresponding to random state:  185 is:  0.06471131401892483\n",
      "r2 score corresponding to random state:  186 is:  -0.17576328034582733\n"
     ]
    },
    {
     "name": "stdout",
     "output_type": "stream",
     "text": [
      "r2 score corresponding to random state:  187 is:  0.1150355356032211\n",
      "r2 score corresponding to random state:  188 is:  0.07304696356091434\n",
      "r2 score corresponding to random state:  189 is:  0.20406466373737842\n",
      "r2 score corresponding to random state:  190 is:  0.05622361003188314\n",
      "r2 score corresponding to random state:  191 is:  -0.04255108448379974\n",
      "r2 score corresponding to random state:  192 is:  0.2075331548028505\n",
      "r2 score corresponding to random state:  193 is:  0.040521563511761394\n",
      "r2 score corresponding to random state:  194 is:  0.10167800128198845\n",
      "r2 score corresponding to random state:  195 is:  0.043082161164321175\n",
      "r2 score corresponding to random state:  196 is:  0.08030643383100489\n",
      "r2 score corresponding to random state:  197 is:  0.11743678683511438\n",
      "r2 score corresponding to random state:  198 is:  0.039936834877303595\n",
      "r2 score corresponding to random state:  199 is:  0.0943621544561618\n",
      "r2 score corresponding to random state:  200 is:  0.06889783043704623\n",
      "r2 score corresponding to random state:  201 is:  0.08307389839301671\n",
      "r2 score corresponding to random state:  202 is:  0.0781828263292711\n",
      "r2 score corresponding to random state:  203 is:  0.14966116101072702\n",
      "r2 score corresponding to random state:  204 is:  0.03891893261816615\n",
      "r2 score corresponding to random state:  205 is:  0.1935572050998554\n",
      "r2 score corresponding to random state:  206 is:  0.20520482402906548\n",
      "r2 score corresponding to random state:  207 is:  0.15362264827498107\n",
      "r2 score corresponding to random state:  208 is:  -0.012457157878808633\n",
      "r2 score corresponding to random state:  209 is:  -0.049140628823582944\n",
      "r2 score corresponding to random state:  210 is:  0.013112287864086247\n",
      "r2 score corresponding to random state:  211 is:  0.2515389436059541\n",
      "r2 score corresponding to random state:  212 is:  0.0002032428570868383\n",
      "r2 score corresponding to random state:  213 is:  -0.043814408475893574\n",
      "r2 score corresponding to random state:  214 is:  0.14526010800279632\n",
      "r2 score corresponding to random state:  215 is:  0.193866645180786\n",
      "r2 score corresponding to random state:  216 is:  0.09759169852650895\n",
      "r2 score corresponding to random state:  217 is:  0.13625301500707976\n",
      "r2 score corresponding to random state:  218 is:  0.07098906099092439\n",
      "r2 score corresponding to random state:  219 is:  0.18956324098646604\n",
      "r2 score corresponding to random state:  220 is:  0.11759245041943678\n",
      "r2 score corresponding to random state:  221 is:  0.15693871770996137\n",
      "r2 score corresponding to random state:  222 is:  0.06815793794650593\n",
      "r2 score corresponding to random state:  223 is:  0.0715729612314947\n",
      "r2 score corresponding to random state:  224 is:  0.2193878332525736\n",
      "r2 score corresponding to random state:  225 is:  0.08484884440511142\n",
      "r2 score corresponding to random state:  226 is:  0.16655403110197708\n",
      "r2 score corresponding to random state:  227 is:  0.1570054484741057\n",
      "r2 score corresponding to random state:  228 is:  0.16510818009289008\n",
      "r2 score corresponding to random state:  229 is:  -0.07846939476314341\n",
      "r2 score corresponding to random state:  230 is:  0.04421748485112387\n",
      "r2 score corresponding to random state:  231 is:  0.13334369249681477\n",
      "r2 score corresponding to random state:  232 is:  0.088285083473014\n",
      "r2 score corresponding to random state:  233 is:  0.08235444905558886\n",
      "r2 score corresponding to random state:  234 is:  0.1042067461405326\n",
      "r2 score corresponding to random state:  235 is:  0.09844972240624927\n",
      "r2 score corresponding to random state:  236 is:  0.009066656402925366\n",
      "r2 score corresponding to random state:  237 is:  0.048149755312648645\n",
      "r2 score corresponding to random state:  238 is:  0.06473969415859382\n",
      "r2 score corresponding to random state:  239 is:  0.11485790488956737\n",
      "r2 score corresponding to random state:  240 is:  0.11531130715681193\n",
      "r2 score corresponding to random state:  241 is:  -0.008295754148688772\n",
      "r2 score corresponding to random state:  242 is:  0.022011433004185288\n",
      "r2 score corresponding to random state:  243 is:  0.03399303966821987\n",
      "r2 score corresponding to random state:  244 is:  0.12360250644490578\n",
      "r2 score corresponding to random state:  245 is:  -0.048585192428404866\n",
      "r2 score corresponding to random state:  246 is:  0.1431529921257778\n",
      "r2 score corresponding to random state:  247 is:  -0.12703955224017616\n",
      "r2 score corresponding to random state:  248 is:  0.015717817298257053\n",
      "r2 score corresponding to random state:  249 is:  -0.04555806703347076\n",
      "r2 score corresponding to random state:  250 is:  0.19369339742228509\n",
      "r2 score corresponding to random state:  251 is:  0.08362812052563862\n",
      "r2 score corresponding to random state:  252 is:  0.02959748476841939\n",
      "r2 score corresponding to random state:  253 is:  0.1644189199737477\n",
      "r2 score corresponding to random state:  254 is:  0.1526529502580486\n",
      "r2 score corresponding to random state:  255 is:  0.06622261057019174\n",
      "r2 score corresponding to random state:  256 is:  0.0680243101138599\n",
      "r2 score corresponding to random state:  257 is:  0.15368353481202168\n",
      "r2 score corresponding to random state:  258 is:  0.14620385230091293\n",
      "r2 score corresponding to random state:  259 is:  0.05701686645643411\n",
      "r2 score corresponding to random state:  260 is:  0.1130933571501872\n",
      "r2 score corresponding to random state:  261 is:  0.03824453911339665\n",
      "r2 score corresponding to random state:  262 is:  0.05019638796478043\n",
      "r2 score corresponding to random state:  263 is:  -0.027936705812489526\n",
      "r2 score corresponding to random state:  264 is:  0.10213549003492928\n",
      "r2 score corresponding to random state:  265 is:  0.048725469727423976\n",
      "r2 score corresponding to random state:  266 is:  0.1302105887621562\n",
      "r2 score corresponding to random state:  267 is:  0.012758400976463635\n",
      "r2 score corresponding to random state:  268 is:  0.10726926099720224\n",
      "r2 score corresponding to random state:  269 is:  -0.06632936853253169\n",
      "r2 score corresponding to random state:  270 is:  0.05750490402676023\n",
      "r2 score corresponding to random state:  271 is:  -0.18886874160164302\n",
      "r2 score corresponding to random state:  272 is:  0.18509834329985742\n",
      "r2 score corresponding to random state:  273 is:  -0.2184660128164202\n",
      "r2 score corresponding to random state:  274 is:  0.1659971193229154\n",
      "r2 score corresponding to random state:  275 is:  -0.04444644551820831\n",
      "r2 score corresponding to random state:  276 is:  -0.16035278474535963\n",
      "r2 score corresponding to random state:  277 is:  0.19790193418156643\n",
      "r2 score corresponding to random state:  278 is:  0.16744602248498808\n",
      "r2 score corresponding to random state:  279 is:  0.08109305076703588\n",
      "r2 score corresponding to random state:  280 is:  0.07108076832023014\n",
      "r2 score corresponding to random state:  281 is:  -0.05960475449751579\n",
      "r2 score corresponding to random state:  282 is:  0.035313515768787385\n",
      "r2 score corresponding to random state:  283 is:  0.013917151295755548\n",
      "r2 score corresponding to random state:  284 is:  0.15236501088099175\n",
      "r2 score corresponding to random state:  285 is:  -0.014953629977078275\n",
      "r2 score corresponding to random state:  286 is:  -0.035878673002430306\n",
      "r2 score corresponding to random state:  287 is:  -0.05622099917247181\n",
      "r2 score corresponding to random state:  288 is:  0.1663721998597245\n",
      "r2 score corresponding to random state:  289 is:  0.11517744230269\n",
      "r2 score corresponding to random state:  290 is:  0.15553682697670268\n",
      "r2 score corresponding to random state:  291 is:  -0.08112827403781808\n",
      "r2 score corresponding to random state:  292 is:  0.005642088135589973\n",
      "r2 score corresponding to random state:  293 is:  0.045431863116643045\n",
      "r2 score corresponding to random state:  294 is:  0.013596881069580569\n",
      "r2 score corresponding to random state:  295 is:  0.06881950186441876\n",
      "r2 score corresponding to random state:  296 is:  0.1860481333032299\n",
      "r2 score corresponding to random state:  297 is:  0.1437404915202356\n",
      "r2 score corresponding to random state:  298 is:  0.15888833242072986\n",
      "r2 score corresponding to random state:  299 is:  0.12150428278227088\n",
      "r2 score corresponding to random state:  300 is:  0.10131811937074187\n",
      "r2 score corresponding to random state:  301 is:  0.1584452330380769\n",
      "r2 score corresponding to random state:  302 is:  0.012486856983805139\n",
      "r2 score corresponding to random state:  303 is:  -0.003604231137922742\n",
      "r2 score corresponding to random state:  304 is:  0.15734766968064362\n",
      "r2 score corresponding to random state:  305 is:  0.014241150118349144\n",
      "r2 score corresponding to random state:  306 is:  0.05351131965138556\n",
      "r2 score corresponding to random state:  307 is:  -0.09158602987454256\n",
      "r2 score corresponding to random state:  308 is:  0.11670398183268194\n",
      "r2 score corresponding to random state:  309 is:  0.09731238282430521\n",
      "r2 score corresponding to random state:  310 is:  -0.07622671955242066\n",
      "r2 score corresponding to random state:  311 is:  -0.02978742236740972\n",
      "r2 score corresponding to random state:  312 is:  -0.002325717756404666\n",
      "r2 score corresponding to random state:  313 is:  0.16720532325463733\n",
      "r2 score corresponding to random state:  314 is:  0.1694733048992917\n",
      "r2 score corresponding to random state:  315 is:  0.04083672673603822\n",
      "r2 score corresponding to random state:  316 is:  0.0829782397778579\n",
      "r2 score corresponding to random state:  317 is:  0.1416045575407694\n"
     ]
    },
    {
     "name": "stdout",
     "output_type": "stream",
     "text": [
      "r2 score corresponding to random state:  318 is:  0.10646999617205843\n",
      "r2 score corresponding to random state:  319 is:  0.05987472749277223\n",
      "r2 score corresponding to random state:  320 is:  0.1894473995066872\n",
      "r2 score corresponding to random state:  321 is:  0.05678725251451877\n",
      "r2 score corresponding to random state:  322 is:  0.039881532740325354\n",
      "r2 score corresponding to random state:  323 is:  0.030353255067675167\n",
      "r2 score corresponding to random state:  324 is:  0.128013897579355\n",
      "r2 score corresponding to random state:  325 is:  0.08225397957673897\n",
      "r2 score corresponding to random state:  326 is:  0.10275496714633814\n",
      "r2 score corresponding to random state:  327 is:  0.006074812867238655\n",
      "r2 score corresponding to random state:  328 is:  0.06103929869617919\n",
      "r2 score corresponding to random state:  329 is:  0.045800487658048006\n",
      "r2 score corresponding to random state:  330 is:  0.11917609642357141\n",
      "r2 score corresponding to random state:  331 is:  0.10847974718586806\n",
      "r2 score corresponding to random state:  332 is:  -0.04234027842498822\n",
      "r2 score corresponding to random state:  333 is:  -0.038702733052134786\n",
      "r2 score corresponding to random state:  334 is:  0.07834951218581054\n",
      "r2 score corresponding to random state:  335 is:  0.038474741234844956\n",
      "r2 score corresponding to random state:  336 is:  0.06578829444736878\n",
      "r2 score corresponding to random state:  337 is:  -0.010407074275089911\n",
      "r2 score corresponding to random state:  338 is:  0.12300426130815068\n",
      "r2 score corresponding to random state:  339 is:  0.056920499957593296\n",
      "r2 score corresponding to random state:  340 is:  0.008802494396938032\n",
      "r2 score corresponding to random state:  341 is:  0.15887614548756557\n",
      "r2 score corresponding to random state:  342 is:  0.1674256879141971\n",
      "r2 score corresponding to random state:  343 is:  0.05216988360755448\n",
      "r2 score corresponding to random state:  344 is:  0.09687443166276977\n",
      "r2 score corresponding to random state:  345 is:  -0.01060099204419318\n",
      "r2 score corresponding to random state:  346 is:  0.12538591718718906\n",
      "r2 score corresponding to random state:  347 is:  0.16554441563187627\n",
      "r2 score corresponding to random state:  348 is:  0.0931296753094587\n",
      "r2 score corresponding to random state:  349 is:  0.07569597392191096\n",
      "r2 score corresponding to random state:  350 is:  0.05509609735516552\n",
      "r2 score corresponding to random state:  351 is:  0.07130976827397795\n",
      "r2 score corresponding to random state:  352 is:  0.15904681898932793\n",
      "r2 score corresponding to random state:  353 is:  0.04873492038052163\n",
      "r2 score corresponding to random state:  354 is:  0.05321445227531196\n",
      "r2 score corresponding to random state:  355 is:  -0.06653842596842607\n",
      "r2 score corresponding to random state:  356 is:  0.24300365852804395\n",
      "r2 score corresponding to random state:  357 is:  0.13965039281037717\n",
      "r2 score corresponding to random state:  358 is:  -0.02330094781489156\n",
      "r2 score corresponding to random state:  359 is:  0.03471318789002842\n",
      "r2 score corresponding to random state:  360 is:  0.02700493663183523\n",
      "r2 score corresponding to random state:  361 is:  0.1815788587197481\n",
      "r2 score corresponding to random state:  362 is:  0.0030123931052024044\n",
      "r2 score corresponding to random state:  363 is:  0.08303522056406021\n",
      "r2 score corresponding to random state:  364 is:  0.14669716615919048\n",
      "r2 score corresponding to random state:  365 is:  0.059223046124443846\n",
      "r2 score corresponding to random state:  366 is:  -0.19575996622431124\n",
      "r2 score corresponding to random state:  367 is:  -0.02987722215308164\n",
      "r2 score corresponding to random state:  368 is:  0.11308077987984144\n",
      "r2 score corresponding to random state:  369 is:  0.08228170826964076\n",
      "r2 score corresponding to random state:  370 is:  0.08337104073462975\n",
      "r2 score corresponding to random state:  371 is:  -0.04198339316910249\n",
      "r2 score corresponding to random state:  372 is:  -0.013287803083554817\n",
      "r2 score corresponding to random state:  373 is:  0.11488940334753062\n",
      "r2 score corresponding to random state:  374 is:  0.07855243024851744\n",
      "r2 score corresponding to random state:  375 is:  0.012995115118607625\n",
      "r2 score corresponding to random state:  376 is:  0.04684099248735396\n",
      "r2 score corresponding to random state:  377 is:  0.0777749840532237\n",
      "r2 score corresponding to random state:  378 is:  -0.027017701318663656\n",
      "r2 score corresponding to random state:  379 is:  -0.014921392135311518\n",
      "r2 score corresponding to random state:  380 is:  0.019571975750940385\n",
      "r2 score corresponding to random state:  381 is:  0.22606184194368062\n",
      "r2 score corresponding to random state:  382 is:  0.08172549631942094\n",
      "r2 score corresponding to random state:  383 is:  0.049343179277225424\n",
      "r2 score corresponding to random state:  384 is:  0.05649505499582674\n",
      "r2 score corresponding to random state:  385 is:  0.06751620625876631\n",
      "r2 score corresponding to random state:  386 is:  -0.030519207359777978\n",
      "r2 score corresponding to random state:  387 is:  0.010445001873767956\n",
      "r2 score corresponding to random state:  388 is:  0.12948664012006794\n",
      "r2 score corresponding to random state:  389 is:  0.024174601363051718\n",
      "r2 score corresponding to random state:  390 is:  0.042054421059569025\n",
      "r2 score corresponding to random state:  391 is:  0.03638025440429149\n",
      "r2 score corresponding to random state:  392 is:  -0.05795815640374924\n",
      "r2 score corresponding to random state:  393 is:  -0.14640987724224974\n",
      "r2 score corresponding to random state:  394 is:  0.07881670204666269\n",
      "r2 score corresponding to random state:  395 is:  0.05328821025634034\n",
      "r2 score corresponding to random state:  396 is:  0.016041669758019794\n",
      "r2 score corresponding to random state:  397 is:  -0.1050695879032375\n",
      "r2 score corresponding to random state:  398 is:  0.05832669328200757\n",
      "r2 score corresponding to random state:  399 is:  0.03273524688690144\n",
      "r2 score corresponding to random state:  400 is:  0.1252359872738683\n",
      "r2 score corresponding to random state:  401 is:  0.07002808239867164\n",
      "r2 score corresponding to random state:  402 is:  0.13645899046266308\n",
      "r2 score corresponding to random state:  403 is:  -0.14322463787477324\n",
      "r2 score corresponding to random state:  404 is:  -0.04527334738614264\n",
      "r2 score corresponding to random state:  405 is:  0.007330480273921136\n",
      "r2 score corresponding to random state:  406 is:  -0.051399531249541885\n",
      "r2 score corresponding to random state:  407 is:  -0.07773665096556437\n",
      "r2 score corresponding to random state:  408 is:  0.053982367492072525\n",
      "r2 score corresponding to random state:  409 is:  0.12079035129529259\n",
      "r2 score corresponding to random state:  410 is:  0.10359686581237904\n",
      "r2 score corresponding to random state:  411 is:  0.061185225268202026\n",
      "r2 score corresponding to random state:  412 is:  0.16191273084293467\n",
      "r2 score corresponding to random state:  413 is:  0.07419153143495727\n",
      "r2 score corresponding to random state:  414 is:  0.07364567358476537\n",
      "r2 score corresponding to random state:  415 is:  0.10000490675218843\n",
      "r2 score corresponding to random state:  416 is:  -0.003701926010962975\n",
      "r2 score corresponding to random state:  417 is:  0.10633672136642014\n",
      "r2 score corresponding to random state:  418 is:  0.12328771447312159\n",
      "r2 score corresponding to random state:  419 is:  0.12070194413758673\n",
      "r2 score corresponding to random state:  420 is:  0.17785382659784477\n",
      "r2 score corresponding to random state:  421 is:  0.10376397141008664\n",
      "r2 score corresponding to random state:  422 is:  0.09235548488889878\n",
      "r2 score corresponding to random state:  423 is:  -0.22788490938991268\n",
      "r2 score corresponding to random state:  424 is:  0.1170219071622598\n",
      "r2 score corresponding to random state:  425 is:  -0.17322665221842226\n",
      "r2 score corresponding to random state:  426 is:  0.043676642945530975\n",
      "r2 score corresponding to random state:  427 is:  0.05760130611863434\n",
      "r2 score corresponding to random state:  428 is:  0.154316257786426\n",
      "r2 score corresponding to random state:  429 is:  0.11523741403382826\n",
      "r2 score corresponding to random state:  430 is:  -0.04398309909039888\n",
      "r2 score corresponding to random state:  431 is:  0.07779472150144973\n",
      "r2 score corresponding to random state:  432 is:  0.12386766645779779\n",
      "r2 score corresponding to random state:  433 is:  0.01826283362568082\n",
      "r2 score corresponding to random state:  434 is:  0.1350526346654436\n",
      "r2 score corresponding to random state:  435 is:  0.06741480445141335\n",
      "r2 score corresponding to random state:  436 is:  0.07070370389072\n",
      "r2 score corresponding to random state:  437 is:  -0.07760401836430475\n",
      "r2 score corresponding to random state:  438 is:  0.09269168808237771\n",
      "r2 score corresponding to random state:  439 is:  0.15523962786335566\n",
      "r2 score corresponding to random state:  440 is:  -0.07172735780670303\n",
      "r2 score corresponding to random state:  441 is:  0.18801981856919303\n",
      "r2 score corresponding to random state:  442 is:  0.1138461106577856\n",
      "r2 score corresponding to random state:  443 is:  -0.13180606884472934\n",
      "r2 score corresponding to random state:  444 is:  0.14089600757415077\n",
      "r2 score corresponding to random state:  445 is:  0.13858648536760332\n",
      "r2 score corresponding to random state:  446 is:  0.15730218088806447\n",
      "r2 score corresponding to random state:  447 is:  -0.05147328792653072\n",
      "r2 score corresponding to random state:  448 is:  0.06248106096502859\n",
      "r2 score corresponding to random state:  449 is:  0.026921153662692987\n",
      "r2 score corresponding to random state:  450 is:  -0.03759752273154415\n",
      "r2 score corresponding to random state:  451 is:  -0.082494065452005\n",
      "r2 score corresponding to random state:  452 is:  0.02865879643091107\n",
      "r2 score corresponding to random state:  453 is:  0.14700403399962125\n",
      "r2 score corresponding to random state:  454 is:  0.07681700054836837\n",
      "r2 score corresponding to random state:  455 is:  0.15288315178804723\n",
      "r2 score corresponding to random state:  456 is:  0.02906006907208436\n",
      "r2 score corresponding to random state:  457 is:  0.0007298747809242334\n",
      "r2 score corresponding to random state:  458 is:  0.17335822193773676\n",
      "r2 score corresponding to random state:  459 is:  -0.004461197778043546\n",
      "r2 score corresponding to random state:  460 is:  0.22406634728288044\n"
     ]
    },
    {
     "name": "stdout",
     "output_type": "stream",
     "text": [
      "r2 score corresponding to random state:  461 is:  0.079497486840579\n",
      "r2 score corresponding to random state:  462 is:  -0.16081074997468603\n",
      "r2 score corresponding to random state:  463 is:  0.3138195939903484\n",
      "r2 score corresponding to random state:  464 is:  0.15362932751845704\n",
      "r2 score corresponding to random state:  465 is:  0.1004371463645104\n",
      "r2 score corresponding to random state:  466 is:  0.060644895664374476\n",
      "r2 score corresponding to random state:  467 is:  -0.12379431239056493\n",
      "r2 score corresponding to random state:  468 is:  0.02219164518435246\n",
      "r2 score corresponding to random state:  469 is:  0.10392935478920284\n",
      "r2 score corresponding to random state:  470 is:  -0.042690367120378214\n",
      "r2 score corresponding to random state:  471 is:  0.038627249219016946\n",
      "r2 score corresponding to random state:  472 is:  -0.02369504156409241\n",
      "r2 score corresponding to random state:  473 is:  0.19947784146431768\n",
      "r2 score corresponding to random state:  474 is:  0.046838342488898066\n",
      "r2 score corresponding to random state:  475 is:  -0.04765419614796951\n",
      "r2 score corresponding to random state:  476 is:  0.21154107242227604\n",
      "r2 score corresponding to random state:  477 is:  0.10899059131363287\n",
      "r2 score corresponding to random state:  478 is:  -0.02773714119613202\n",
      "r2 score corresponding to random state:  479 is:  0.0012511991627696117\n",
      "r2 score corresponding to random state:  480 is:  0.09717060202004446\n",
      "r2 score corresponding to random state:  481 is:  0.15109609941777435\n",
      "r2 score corresponding to random state:  482 is:  0.23652589210209596\n",
      "r2 score corresponding to random state:  483 is:  0.05269326271903729\n",
      "r2 score corresponding to random state:  484 is:  -0.019062538512629956\n",
      "r2 score corresponding to random state:  485 is:  0.07712684363712152\n",
      "r2 score corresponding to random state:  486 is:  -0.08040347522342484\n",
      "r2 score corresponding to random state:  487 is:  0.04802403605489547\n",
      "r2 score corresponding to random state:  488 is:  0.10448173283376005\n",
      "r2 score corresponding to random state:  489 is:  -0.12002242382671535\n",
      "r2 score corresponding to random state:  490 is:  -0.07865609757983916\n",
      "r2 score corresponding to random state:  491 is:  0.19043395802230179\n",
      "r2 score corresponding to random state:  492 is:  0.07553167184417997\n",
      "r2 score corresponding to random state:  493 is:  0.0967548774176008\n",
      "r2 score corresponding to random state:  494 is:  0.059476536946095004\n",
      "r2 score corresponding to random state:  495 is:  0.17186082109453527\n",
      "r2 score corresponding to random state:  496 is:  0.12903364726153577\n",
      "r2 score corresponding to random state:  497 is:  0.11164489545605538\n",
      "r2 score corresponding to random state:  498 is:  -0.12576778005302525\n",
      "r2 score corresponding to random state:  499 is:  0.07148482263234013\n",
      "r2 score corresponding to random state:  500 is:  -0.004497667753794454\n",
      "r2 score corresponding to random state:  501 is:  -0.03607495076903611\n",
      "r2 score corresponding to random state:  502 is:  0.21071363130319654\n",
      "r2 score corresponding to random state:  503 is:  -0.022109647195894144\n",
      "r2 score corresponding to random state:  504 is:  -0.09464497422516316\n",
      "r2 score corresponding to random state:  505 is:  0.15901075053280023\n",
      "r2 score corresponding to random state:  506 is:  0.030893892819160107\n",
      "r2 score corresponding to random state:  507 is:  0.05162731382870356\n",
      "r2 score corresponding to random state:  508 is:  0.03398753045477643\n",
      "r2 score corresponding to random state:  509 is:  -0.03319410283349833\n",
      "r2 score corresponding to random state:  510 is:  0.11540904867918023\n",
      "r2 score corresponding to random state:  511 is:  0.009450663107812951\n",
      "r2 score corresponding to random state:  512 is:  -0.03209350560889512\n",
      "r2 score corresponding to random state:  513 is:  0.049107119043512615\n",
      "r2 score corresponding to random state:  514 is:  0.13786181507064954\n",
      "r2 score corresponding to random state:  515 is:  0.15645216677536045\n",
      "r2 score corresponding to random state:  516 is:  0.20721790247778016\n",
      "r2 score corresponding to random state:  517 is:  0.09769662607755547\n",
      "r2 score corresponding to random state:  518 is:  0.036363321143090266\n",
      "r2 score corresponding to random state:  519 is:  -0.02444570841638627\n",
      "r2 score corresponding to random state:  520 is:  0.029018101112582628\n",
      "r2 score corresponding to random state:  521 is:  0.08909234393636967\n",
      "r2 score corresponding to random state:  522 is:  0.15546254598163556\n",
      "r2 score corresponding to random state:  523 is:  0.1294407196286812\n",
      "r2 score corresponding to random state:  524 is:  -0.058173861944223804\n",
      "r2 score corresponding to random state:  525 is:  -0.1286669800639182\n",
      "r2 score corresponding to random state:  526 is:  0.16498588073126985\n",
      "r2 score corresponding to random state:  527 is:  -0.018831579304790624\n",
      "r2 score corresponding to random state:  528 is:  0.13087349840254692\n",
      "r2 score corresponding to random state:  529 is:  0.07963140174732142\n",
      "r2 score corresponding to random state:  530 is:  0.09006817401229739\n",
      "r2 score corresponding to random state:  531 is:  -0.00101754158891465\n",
      "r2 score corresponding to random state:  532 is:  -0.0599090723481468\n",
      "r2 score corresponding to random state:  533 is:  0.10048119168565017\n",
      "r2 score corresponding to random state:  534 is:  0.06900466273448214\n",
      "r2 score corresponding to random state:  535 is:  0.17312376511831795\n",
      "r2 score corresponding to random state:  536 is:  -0.13632237905626088\n",
      "r2 score corresponding to random state:  537 is:  -0.07227363753415994\n",
      "r2 score corresponding to random state:  538 is:  -0.11527679148525771\n",
      "r2 score corresponding to random state:  539 is:  0.09732330237194387\n",
      "r2 score corresponding to random state:  540 is:  -0.032930424305555706\n",
      "r2 score corresponding to random state:  541 is:  0.19765593974124118\n",
      "r2 score corresponding to random state:  542 is:  -0.010397767869032126\n",
      "r2 score corresponding to random state:  543 is:  0.013153953248663641\n",
      "r2 score corresponding to random state:  544 is:  0.035340331545589465\n",
      "r2 score corresponding to random state:  545 is:  0.0003478451677801919\n",
      "r2 score corresponding to random state:  546 is:  -0.060270430662632046\n",
      "r2 score corresponding to random state:  547 is:  -0.009432777627889077\n",
      "r2 score corresponding to random state:  548 is:  0.07740700499391018\n",
      "r2 score corresponding to random state:  549 is:  -0.19817116211197128\n",
      "r2 score corresponding to random state:  550 is:  0.1208932850384794\n",
      "r2 score corresponding to random state:  551 is:  0.17738189647525282\n",
      "r2 score corresponding to random state:  552 is:  -0.08424171583570672\n",
      "r2 score corresponding to random state:  553 is:  -0.14603744250667594\n",
      "r2 score corresponding to random state:  554 is:  0.14284519545540908\n",
      "r2 score corresponding to random state:  555 is:  0.08147902877286428\n",
      "r2 score corresponding to random state:  556 is:  -0.17910720759728704\n",
      "r2 score corresponding to random state:  557 is:  -0.024490449698362227\n",
      "r2 score corresponding to random state:  558 is:  0.14323593181646543\n",
      "r2 score corresponding to random state:  559 is:  -0.05292870392236204\n",
      "r2 score corresponding to random state:  560 is:  0.10806924842259857\n",
      "r2 score corresponding to random state:  561 is:  0.1908722835166955\n",
      "r2 score corresponding to random state:  562 is:  0.11780472730634428\n",
      "r2 score corresponding to random state:  563 is:  0.16648135163880196\n",
      "r2 score corresponding to random state:  564 is:  0.18488714689026797\n",
      "r2 score corresponding to random state:  565 is:  0.1080175640758756\n",
      "r2 score corresponding to random state:  566 is:  0.1461160745686121\n",
      "r2 score corresponding to random state:  567 is:  -0.17534825642169816\n",
      "r2 score corresponding to random state:  568 is:  0.20638394307669183\n",
      "r2 score corresponding to random state:  569 is:  0.05696036007367167\n",
      "r2 score corresponding to random state:  570 is:  0.06083228862329715\n",
      "r2 score corresponding to random state:  571 is:  0.1696033072503098\n",
      "r2 score corresponding to random state:  572 is:  0.07578781182524152\n",
      "r2 score corresponding to random state:  573 is:  0.053245400517515584\n",
      "r2 score corresponding to random state:  574 is:  -0.0011939165762426818\n",
      "r2 score corresponding to random state:  575 is:  0.05395885131140121\n",
      "r2 score corresponding to random state:  576 is:  0.13238733413073522\n",
      "r2 score corresponding to random state:  577 is:  0.05931303392734044\n",
      "r2 score corresponding to random state:  578 is:  -0.008040838348752688\n"
     ]
    },
    {
     "name": "stdout",
     "output_type": "stream",
     "text": [
      "r2 score corresponding to random state:  579 is:  0.12019588783136426\n",
      "r2 score corresponding to random state:  580 is:  0.20798117405013994\n",
      "r2 score corresponding to random state:  581 is:  0.09738809299804807\n",
      "r2 score corresponding to random state:  582 is:  0.1338225863943333\n",
      "r2 score corresponding to random state:  583 is:  0.11847125602552833\n",
      "r2 score corresponding to random state:  584 is:  0.06235074144443398\n",
      "r2 score corresponding to random state:  585 is:  0.14642644307323038\n",
      "r2 score corresponding to random state:  586 is:  -0.030624462570987276\n",
      "r2 score corresponding to random state:  587 is:  0.18563868143838436\n",
      "r2 score corresponding to random state:  588 is:  -0.09324194529233654\n",
      "r2 score corresponding to random state:  589 is:  0.022563234356717365\n",
      "r2 score corresponding to random state:  590 is:  0.11097028653187258\n",
      "r2 score corresponding to random state:  591 is:  0.11779292821546727\n",
      "r2 score corresponding to random state:  592 is:  0.18511024957038458\n",
      "r2 score corresponding to random state:  593 is:  0.11383989331727051\n",
      "r2 score corresponding to random state:  594 is:  0.05798621973208051\n",
      "r2 score corresponding to random state:  595 is:  0.1466131705412892\n",
      "r2 score corresponding to random state:  596 is:  0.029748115607304615\n",
      "r2 score corresponding to random state:  597 is:  -0.06806794133127014\n",
      "r2 score corresponding to random state:  598 is:  0.22223619474773326\n",
      "r2 score corresponding to random state:  599 is:  0.16276580596920565\n",
      "r2 score corresponding to random state:  600 is:  0.09650986746877732\n",
      "r2 score corresponding to random state:  601 is:  0.10747725713456324\n",
      "r2 score corresponding to random state:  602 is:  0.06149524149994634\n",
      "r2 score corresponding to random state:  603 is:  0.14261840297380335\n",
      "r2 score corresponding to random state:  604 is:  0.021672068618119877\n",
      "r2 score corresponding to random state:  605 is:  0.13862314608496618\n",
      "r2 score corresponding to random state:  606 is:  0.13084215435751867\n",
      "r2 score corresponding to random state:  607 is:  0.10710414318922001\n",
      "r2 score corresponding to random state:  608 is:  0.16426242253050072\n",
      "r2 score corresponding to random state:  609 is:  0.14985883960924318\n",
      "r2 score corresponding to random state:  610 is:  0.1418176736800949\n",
      "r2 score corresponding to random state:  611 is:  0.056596089768614743\n",
      "r2 score corresponding to random state:  612 is:  0.13425962174046702\n",
      "r2 score corresponding to random state:  613 is:  0.12281911129331291\n",
      "r2 score corresponding to random state:  614 is:  0.03995920042354839\n",
      "r2 score corresponding to random state:  615 is:  0.10018396944677976\n",
      "r2 score corresponding to random state:  616 is:  0.1220509008874111\n",
      "r2 score corresponding to random state:  617 is:  -0.10287803644938065\n",
      "r2 score corresponding to random state:  618 is:  0.06167466719295922\n",
      "r2 score corresponding to random state:  619 is:  0.13485847416519758\n",
      "r2 score corresponding to random state:  620 is:  0.04774988300846983\n",
      "r2 score corresponding to random state:  621 is:  0.13322445857865162\n",
      "r2 score corresponding to random state:  622 is:  0.0749997321392043\n",
      "r2 score corresponding to random state:  623 is:  0.16748638574101937\n",
      "r2 score corresponding to random state:  624 is:  0.05599401662326797\n",
      "r2 score corresponding to random state:  625 is:  0.1122773269220102\n",
      "r2 score corresponding to random state:  626 is:  0.14386373446367684\n",
      "r2 score corresponding to random state:  627 is:  0.044698462071182665\n",
      "r2 score corresponding to random state:  628 is:  0.0844362260381295\n",
      "r2 score corresponding to random state:  629 is:  -0.02238637432999413\n",
      "r2 score corresponding to random state:  630 is:  0.20992748644477444\n",
      "r2 score corresponding to random state:  631 is:  0.07968581320837731\n",
      "r2 score corresponding to random state:  632 is:  0.026948979129766903\n",
      "r2 score corresponding to random state:  633 is:  -0.01840539649623918\n",
      "r2 score corresponding to random state:  634 is:  0.15282637311633251\n",
      "r2 score corresponding to random state:  635 is:  -0.12955726318782146\n",
      "r2 score corresponding to random state:  636 is:  0.0763731269500012\n",
      "r2 score corresponding to random state:  637 is:  0.156630900432157\n",
      "r2 score corresponding to random state:  638 is:  0.02345005433554115\n",
      "r2 score corresponding to random state:  639 is:  0.10105327316294921\n",
      "r2 score corresponding to random state:  640 is:  -0.06154969769944607\n",
      "r2 score corresponding to random state:  641 is:  0.10524472134769047\n",
      "r2 score corresponding to random state:  642 is:  0.0608417678159231\n",
      "r2 score corresponding to random state:  643 is:  0.1634134223585565\n",
      "r2 score corresponding to random state:  644 is:  0.062427212355310346\n",
      "r2 score corresponding to random state:  645 is:  0.1054193045764833\n",
      "r2 score corresponding to random state:  646 is:  0.016481952429722058\n",
      "r2 score corresponding to random state:  647 is:  0.13892876165266022\n",
      "r2 score corresponding to random state:  648 is:  -0.030241936174225437\n",
      "r2 score corresponding to random state:  649 is:  0.015463956505047949\n",
      "r2 score corresponding to random state:  650 is:  0.13038235911981466\n",
      "r2 score corresponding to random state:  651 is:  -0.0003878367106602276\n",
      "r2 score corresponding to random state:  652 is:  -0.36886723974045865\n",
      "r2 score corresponding to random state:  653 is:  0.0912689565010193\n",
      "r2 score corresponding to random state:  654 is:  -0.06930260365824847\n",
      "r2 score corresponding to random state:  655 is:  0.12036287119843225\n",
      "r2 score corresponding to random state:  656 is:  0.01791872842928932\n",
      "r2 score corresponding to random state:  657 is:  0.09605588621970718\n",
      "r2 score corresponding to random state:  658 is:  0.06276731960653592\n",
      "r2 score corresponding to random state:  659 is:  0.17313230792732914\n",
      "r2 score corresponding to random state:  660 is:  -0.08341961564922773\n",
      "r2 score corresponding to random state:  661 is:  0.11946906575971539\n",
      "r2 score corresponding to random state:  662 is:  0.09933872201542837\n",
      "r2 score corresponding to random state:  663 is:  -0.08541494731212262\n",
      "r2 score corresponding to random state:  664 is:  0.07547012372170603\n",
      "r2 score corresponding to random state:  665 is:  0.0973359930062746\n",
      "r2 score corresponding to random state:  666 is:  0.1033278997642616\n",
      "r2 score corresponding to random state:  667 is:  -0.05569171896026748\n",
      "r2 score corresponding to random state:  668 is:  0.17614600507469325\n",
      "r2 score corresponding to random state:  669 is:  0.06755515205954388\n",
      "r2 score corresponding to random state:  670 is:  0.005905702661426315\n",
      "r2 score corresponding to random state:  671 is:  -0.06103903235842645\n",
      "r2 score corresponding to random state:  672 is:  -0.002336864772082725\n",
      "r2 score corresponding to random state:  673 is:  0.1329191788323466\n",
      "r2 score corresponding to random state:  674 is:  -0.031997096783978884\n",
      "r2 score corresponding to random state:  675 is:  -0.014615552113912411\n",
      "r2 score corresponding to random state:  676 is:  -0.13486193664166257\n",
      "r2 score corresponding to random state:  677 is:  0.042725172812008605\n",
      "r2 score corresponding to random state:  678 is:  0.19516454892082036\n",
      "r2 score corresponding to random state:  679 is:  0.177239269094005\n",
      "r2 score corresponding to random state:  680 is:  -0.14158690546203423\n",
      "r2 score corresponding to random state:  681 is:  -0.03377210715956003\n",
      "r2 score corresponding to random state:  682 is:  -0.030409788281678063\n",
      "r2 score corresponding to random state:  683 is:  0.14908169681730232\n",
      "r2 score corresponding to random state:  684 is:  0.1936654598559282\n",
      "r2 score corresponding to random state:  685 is:  0.14654366138447406\n",
      "r2 score corresponding to random state:  686 is:  0.035192235298216246\n",
      "r2 score corresponding to random state:  687 is:  -0.019442434208061687\n",
      "r2 score corresponding to random state:  688 is:  0.1049038107034953\n",
      "r2 score corresponding to random state:  689 is:  0.0463601079552185\n",
      "r2 score corresponding to random state:  690 is:  0.049028918108573794\n",
      "r2 score corresponding to random state:  691 is:  -0.018264550876099905\n",
      "r2 score corresponding to random state:  692 is:  0.05303817963857249\n",
      "r2 score corresponding to random state:  693 is:  0.07315906764966484\n",
      "r2 score corresponding to random state:  694 is:  -0.04366650415330109\n",
      "r2 score corresponding to random state:  695 is:  0.14484369247698914\n"
     ]
    },
    {
     "name": "stdout",
     "output_type": "stream",
     "text": [
      "r2 score corresponding to random state:  696 is:  -0.08380812240232083\n",
      "r2 score corresponding to random state:  697 is:  0.06533266612909616\n",
      "r2 score corresponding to random state:  698 is:  0.08878978447215191\n",
      "r2 score corresponding to random state:  699 is:  0.06839410693339287\n",
      "r2 score corresponding to random state:  700 is:  -0.04536578448970996\n",
      "r2 score corresponding to random state:  701 is:  0.06390849349055316\n",
      "r2 score corresponding to random state:  702 is:  0.19193365652640215\n",
      "r2 score corresponding to random state:  703 is:  -0.020909599088993147\n",
      "r2 score corresponding to random state:  704 is:  -0.0834652510687659\n",
      "r2 score corresponding to random state:  705 is:  0.22096141316472684\n",
      "r2 score corresponding to random state:  706 is:  0.13753924723870603\n",
      "r2 score corresponding to random state:  707 is:  0.230702519687509\n",
      "r2 score corresponding to random state:  708 is:  0.09704000507473631\n",
      "r2 score corresponding to random state:  709 is:  -0.04925708852526678\n",
      "r2 score corresponding to random state:  710 is:  0.15650925950267114\n",
      "r2 score corresponding to random state:  711 is:  0.0767176601102989\n",
      "r2 score corresponding to random state:  712 is:  0.052534850144176914\n",
      "r2 score corresponding to random state:  713 is:  0.17219726098722465\n",
      "r2 score corresponding to random state:  714 is:  0.03696508027641554\n",
      "r2 score corresponding to random state:  715 is:  -0.09860005333895194\n",
      "r2 score corresponding to random state:  716 is:  -0.293463111060587\n",
      "r2 score corresponding to random state:  717 is:  0.05264417317261583\n",
      "r2 score corresponding to random state:  718 is:  0.12305595648742773\n",
      "r2 score corresponding to random state:  719 is:  0.07176703037808307\n",
      "r2 score corresponding to random state:  720 is:  0.11573110718135438\n",
      "r2 score corresponding to random state:  721 is:  -0.020470728251190007\n",
      "r2 score corresponding to random state:  722 is:  0.16794940038304396\n",
      "r2 score corresponding to random state:  723 is:  0.11451931476479482\n",
      "r2 score corresponding to random state:  724 is:  0.19041510480868873\n",
      "r2 score corresponding to random state:  725 is:  -0.07519969351359257\n",
      "r2 score corresponding to random state:  726 is:  -0.039782834613604434\n",
      "r2 score corresponding to random state:  727 is:  0.11688254020877298\n",
      "r2 score corresponding to random state:  728 is:  0.1686304198752735\n",
      "r2 score corresponding to random state:  729 is:  -0.21174511740495205\n",
      "r2 score corresponding to random state:  730 is:  0.14039015850979986\n",
      "r2 score corresponding to random state:  731 is:  0.14883056702018427\n",
      "r2 score corresponding to random state:  732 is:  -0.0181652607280669\n",
      "r2 score corresponding to random state:  733 is:  -0.10025750213149709\n",
      "r2 score corresponding to random state:  734 is:  0.03570163357855616\n",
      "r2 score corresponding to random state:  735 is:  0.0408364625406441\n",
      "r2 score corresponding to random state:  736 is:  0.18777959889554852\n",
      "r2 score corresponding to random state:  737 is:  0.0037208331345220946\n",
      "r2 score corresponding to random state:  738 is:  0.0036630246595017457\n",
      "r2 score corresponding to random state:  739 is:  -0.04986652285189974\n",
      "r2 score corresponding to random state:  740 is:  0.09037047913599472\n",
      "r2 score corresponding to random state:  741 is:  0.07202329387633444\n",
      "r2 score corresponding to random state:  742 is:  0.16696686385769888\n",
      "r2 score corresponding to random state:  743 is:  -0.00720956554248664\n",
      "r2 score corresponding to random state:  744 is:  0.20593524814346587\n",
      "r2 score corresponding to random state:  745 is:  0.09067811156523231\n",
      "r2 score corresponding to random state:  746 is:  0.09319059473856917\n",
      "r2 score corresponding to random state:  747 is:  0.16708835951132872\n",
      "r2 score corresponding to random state:  748 is:  0.08783907146041048\n",
      "r2 score corresponding to random state:  749 is:  0.08683222468795937\n",
      "r2 score corresponding to random state:  750 is:  0.18458801471159236\n",
      "r2 score corresponding to random state:  751 is:  0.12390256990091864\n",
      "r2 score corresponding to random state:  752 is:  -0.00826871708627075\n",
      "r2 score corresponding to random state:  753 is:  0.11159564421957824\n",
      "r2 score corresponding to random state:  754 is:  0.14616551386891796\n",
      "r2 score corresponding to random state:  755 is:  0.04012233819667943\n",
      "r2 score corresponding to random state:  756 is:  0.1535838216264559\n",
      "r2 score corresponding to random state:  757 is:  -0.13910471022120907\n",
      "r2 score corresponding to random state:  758 is:  0.03996603151951894\n",
      "r2 score corresponding to random state:  759 is:  -0.157985886151482\n",
      "r2 score corresponding to random state:  760 is:  0.17026627219656376\n",
      "r2 score corresponding to random state:  761 is:  -0.0965093401473196\n",
      "r2 score corresponding to random state:  762 is:  0.024075801315190826\n",
      "r2 score corresponding to random state:  763 is:  0.14930201417008016\n",
      "r2 score corresponding to random state:  764 is:  0.024712755583007673\n",
      "r2 score corresponding to random state:  765 is:  0.024489779724164107\n",
      "r2 score corresponding to random state:  766 is:  0.10001594460095464\n",
      "r2 score corresponding to random state:  767 is:  0.10260869283458973\n",
      "r2 score corresponding to random state:  768 is:  0.04472019652255865\n",
      "r2 score corresponding to random state:  769 is:  -0.035139362367704985\n",
      "r2 score corresponding to random state:  770 is:  0.13613676166247435\n",
      "r2 score corresponding to random state:  771 is:  -0.19697445781162637\n",
      "r2 score corresponding to random state:  772 is:  0.11527930021322996\n",
      "r2 score corresponding to random state:  773 is:  0.18374809469554432\n",
      "r2 score corresponding to random state:  774 is:  0.06295329014690665\n",
      "r2 score corresponding to random state:  775 is:  -0.06359675458005154\n",
      "r2 score corresponding to random state:  776 is:  0.05133232997074\n",
      "r2 score corresponding to random state:  777 is:  0.0072804497980197835\n",
      "r2 score corresponding to random state:  778 is:  0.09698671310102303\n",
      "r2 score corresponding to random state:  779 is:  -0.07491981133210923\n",
      "r2 score corresponding to random state:  780 is:  0.023350039814769685\n",
      "r2 score corresponding to random state:  781 is:  0.12706895322493106\n",
      "r2 score corresponding to random state:  782 is:  0.05661426584768592\n",
      "r2 score corresponding to random state:  783 is:  -0.033173249502245206\n",
      "r2 score corresponding to random state:  784 is:  -0.05486441115089802\n",
      "r2 score corresponding to random state:  785 is:  0.10554817030675112\n",
      "r2 score corresponding to random state:  786 is:  0.09580208741121887\n",
      "r2 score corresponding to random state:  787 is:  0.16126730958396174\n",
      "r2 score corresponding to random state:  788 is:  0.04231530678446893\n",
      "r2 score corresponding to random state:  789 is:  0.06238769520013243\n",
      "r2 score corresponding to random state:  790 is:  0.03572189908475454\n",
      "r2 score corresponding to random state:  791 is:  0.14422627964316492\n",
      "r2 score corresponding to random state:  792 is:  0.10122562402422741\n",
      "r2 score corresponding to random state:  793 is:  -0.06348747456896575\n",
      "r2 score corresponding to random state:  794 is:  0.004576950329649998\n",
      "r2 score corresponding to random state:  795 is:  0.16604666155876302\n",
      "r2 score corresponding to random state:  796 is:  0.17920501377532672\n",
      "r2 score corresponding to random state:  797 is:  -0.06207879380399128\n",
      "r2 score corresponding to random state:  798 is:  0.28618015336823766\n",
      "r2 score corresponding to random state:  799 is:  0.11258887962982267\n",
      "r2 score corresponding to random state:  800 is:  0.169778921879419\n",
      "r2 score corresponding to random state:  801 is:  -0.07966493771528294\n",
      "r2 score corresponding to random state:  802 is:  -0.2057971390586384\n",
      "r2 score corresponding to random state:  803 is:  0.1927844238755887\n",
      "r2 score corresponding to random state:  804 is:  0.09403292648408756\n",
      "r2 score corresponding to random state:  805 is:  0.11965483771613838\n",
      "r2 score corresponding to random state:  806 is:  0.05317201344453071\n",
      "r2 score corresponding to random state:  807 is:  0.04334567942002643\n",
      "r2 score corresponding to random state:  808 is:  0.09165469891339506\n",
      "r2 score corresponding to random state:  809 is:  0.1510925532590437\n",
      "r2 score corresponding to random state:  810 is:  0.062402847857311095\n",
      "r2 score corresponding to random state:  811 is:  0.13046663625095\n",
      "r2 score corresponding to random state:  812 is:  0.13214642061006587\n",
      "r2 score corresponding to random state:  813 is:  0.06438719984308006\n",
      "r2 score corresponding to random state:  814 is:  0.12095557896960163\n",
      "r2 score corresponding to random state:  815 is:  0.037347922756128527\n",
      "r2 score corresponding to random state:  816 is:  0.027185442005504212\n",
      "r2 score corresponding to random state:  817 is:  0.12860484224825874\n",
      "r2 score corresponding to random state:  818 is:  0.057142321030448584\n",
      "r2 score corresponding to random state:  819 is:  -0.055517111731791635\n",
      "r2 score corresponding to random state:  820 is:  0.07835315127937281\n"
     ]
    },
    {
     "name": "stdout",
     "output_type": "stream",
     "text": [
      "r2 score corresponding to random state:  821 is:  0.01981451935112033\n",
      "r2 score corresponding to random state:  822 is:  -0.042547493209969645\n",
      "r2 score corresponding to random state:  823 is:  0.09774403208360583\n",
      "r2 score corresponding to random state:  824 is:  0.26673671129713405\n",
      "r2 score corresponding to random state:  825 is:  0.02560453341443769\n",
      "r2 score corresponding to random state:  826 is:  0.16488422559721105\n",
      "r2 score corresponding to random state:  827 is:  0.1720267329053553\n",
      "r2 score corresponding to random state:  828 is:  0.14453585193005303\n",
      "r2 score corresponding to random state:  829 is:  0.03180375640316546\n",
      "r2 score corresponding to random state:  830 is:  0.11251984682006066\n",
      "r2 score corresponding to random state:  831 is:  0.07817107280345403\n",
      "r2 score corresponding to random state:  832 is:  -0.00975780150894967\n",
      "r2 score corresponding to random state:  833 is:  0.08744122915779673\n",
      "r2 score corresponding to random state:  834 is:  0.10766463465647158\n",
      "r2 score corresponding to random state:  835 is:  0.12437361591942409\n",
      "r2 score corresponding to random state:  836 is:  -0.005229396998539748\n",
      "r2 score corresponding to random state:  837 is:  0.1238812187591426\n",
      "r2 score corresponding to random state:  838 is:  -0.0654250859196921\n",
      "r2 score corresponding to random state:  839 is:  0.08838083904197114\n",
      "r2 score corresponding to random state:  840 is:  0.06909671613669632\n",
      "r2 score corresponding to random state:  841 is:  0.14961089953083162\n",
      "r2 score corresponding to random state:  842 is:  0.19785604243893862\n",
      "r2 score corresponding to random state:  843 is:  0.1323605291199671\n",
      "r2 score corresponding to random state:  844 is:  0.1017975547537171\n",
      "r2 score corresponding to random state:  845 is:  0.08943878711699049\n",
      "r2 score corresponding to random state:  846 is:  0.12625974706877552\n",
      "r2 score corresponding to random state:  847 is:  0.11961910362788308\n",
      "r2 score corresponding to random state:  848 is:  -0.06836724607428302\n",
      "r2 score corresponding to random state:  849 is:  0.021390393846416833\n",
      "r2 score corresponding to random state:  850 is:  0.04976205269355127\n",
      "r2 score corresponding to random state:  851 is:  0.15112487762850957\n",
      "r2 score corresponding to random state:  852 is:  0.14320039191149403\n",
      "r2 score corresponding to random state:  853 is:  0.15832753837807534\n",
      "r2 score corresponding to random state:  854 is:  -0.07940052904575023\n",
      "r2 score corresponding to random state:  855 is:  0.045856062721110424\n",
      "r2 score corresponding to random state:  856 is:  0.09479487605760761\n",
      "r2 score corresponding to random state:  857 is:  0.15559797776898776\n",
      "r2 score corresponding to random state:  858 is:  0.007116516840082521\n",
      "r2 score corresponding to random state:  859 is:  -0.05183548364060586\n",
      "r2 score corresponding to random state:  860 is:  0.16684400585016634\n",
      "r2 score corresponding to random state:  861 is:  -0.0034647394948863486\n",
      "r2 score corresponding to random state:  862 is:  -0.2389728240476776\n",
      "r2 score corresponding to random state:  863 is:  0.11542258190922905\n",
      "r2 score corresponding to random state:  864 is:  -0.12224971285248443\n",
      "r2 score corresponding to random state:  865 is:  0.1683231576898817\n",
      "r2 score corresponding to random state:  866 is:  0.14689606480488648\n",
      "r2 score corresponding to random state:  867 is:  -0.043451109183779923\n",
      "r2 score corresponding to random state:  868 is:  0.13435533795554577\n",
      "r2 score corresponding to random state:  869 is:  0.09016609921209517\n",
      "r2 score corresponding to random state:  870 is:  0.03644492060000559\n",
      "r2 score corresponding to random state:  871 is:  0.06392421913030821\n",
      "r2 score corresponding to random state:  872 is:  0.20905581741183743\n",
      "r2 score corresponding to random state:  873 is:  -0.006411361190727938\n",
      "r2 score corresponding to random state:  874 is:  0.05864208822769612\n",
      "r2 score corresponding to random state:  875 is:  -0.10644491901168562\n",
      "r2 score corresponding to random state:  876 is:  -0.046511280137359945\n",
      "r2 score corresponding to random state:  877 is:  0.15467351271720575\n",
      "r2 score corresponding to random state:  878 is:  0.13580579114630376\n",
      "r2 score corresponding to random state:  879 is:  0.21605588585214974\n",
      "r2 score corresponding to random state:  880 is:  0.15425461202487556\n",
      "r2 score corresponding to random state:  881 is:  0.19190235528756083\n",
      "r2 score corresponding to random state:  882 is:  0.06140722170830626\n",
      "r2 score corresponding to random state:  883 is:  0.13079999813240295\n",
      "r2 score corresponding to random state:  884 is:  0.07267837119528464\n",
      "r2 score corresponding to random state:  885 is:  0.0709476748555361\n",
      "r2 score corresponding to random state:  886 is:  0.1573383735981797\n",
      "r2 score corresponding to random state:  887 is:  -0.03679680994795653\n",
      "r2 score corresponding to random state:  888 is:  0.1564696753022713\n",
      "r2 score corresponding to random state:  889 is:  0.1365088974914921\n",
      "r2 score corresponding to random state:  890 is:  0.15427732070413558\n",
      "r2 score corresponding to random state:  891 is:  0.08043070671045749\n",
      "r2 score corresponding to random state:  892 is:  -0.14436047517565975\n",
      "r2 score corresponding to random state:  893 is:  0.028264867525576554\n",
      "r2 score corresponding to random state:  894 is:  0.08477332561228879\n",
      "r2 score corresponding to random state:  895 is:  0.1629731966393806\n",
      "r2 score corresponding to random state:  896 is:  -0.06294527705571751\n",
      "r2 score corresponding to random state:  897 is:  -0.3014757621865556\n",
      "r2 score corresponding to random state:  898 is:  0.020379455087506826\n",
      "r2 score corresponding to random state:  899 is:  0.00714403628528848\n",
      "r2 score corresponding to random state:  900 is:  0.2037265895282272\n",
      "r2 score corresponding to random state:  901 is:  0.01069401974412687\n",
      "r2 score corresponding to random state:  902 is:  0.10376840575042046\n",
      "r2 score corresponding to random state:  903 is:  0.13057422636643823\n",
      "r2 score corresponding to random state:  904 is:  0.21331972488239492\n",
      "r2 score corresponding to random state:  905 is:  0.17643886962897848\n",
      "r2 score corresponding to random state:  906 is:  0.03078408911271502\n",
      "r2 score corresponding to random state:  907 is:  0.1992002744754432\n",
      "r2 score corresponding to random state:  908 is:  -0.01531731977081563\n",
      "r2 score corresponding to random state:  909 is:  -0.08405906254094697\n",
      "r2 score corresponding to random state:  910 is:  -0.06821555416699598\n",
      "r2 score corresponding to random state:  911 is:  -0.12442800241482699\n",
      "r2 score corresponding to random state:  912 is:  0.11598825353943043\n",
      "r2 score corresponding to random state:  913 is:  -0.05362460780762901\n",
      "r2 score corresponding to random state:  914 is:  -0.011218844202615763\n",
      "r2 score corresponding to random state:  915 is:  0.1694595453504626\n",
      "r2 score corresponding to random state:  916 is:  0.093223456425786\n",
      "r2 score corresponding to random state:  917 is:  0.2380597972593793\n",
      "r2 score corresponding to random state:  918 is:  -0.10209432081828562\n",
      "r2 score corresponding to random state:  919 is:  -0.1274115008143315\n",
      "r2 score corresponding to random state:  920 is:  -0.05948438264206368\n",
      "r2 score corresponding to random state:  921 is:  0.12860552635406053\n",
      "r2 score corresponding to random state:  922 is:  0.13538244141890843\n",
      "r2 score corresponding to random state:  923 is:  0.1220030553486241\n",
      "r2 score corresponding to random state:  924 is:  -0.0047486342954667915\n",
      "r2 score corresponding to random state:  925 is:  -0.09905411066579695\n",
      "r2 score corresponding to random state:  926 is:  -0.0058779519134841696\n",
      "r2 score corresponding to random state:  927 is:  0.18203906178593465\n",
      "r2 score corresponding to random state:  928 is:  0.10286385100929074\n",
      "r2 score corresponding to random state:  929 is:  0.15766545846442692\n",
      "r2 score corresponding to random state:  930 is:  0.0717801142632053\n",
      "r2 score corresponding to random state:  931 is:  0.1688089487652884\n",
      "r2 score corresponding to random state:  932 is:  0.17162522909218136\n",
      "r2 score corresponding to random state:  933 is:  -0.1501785631795174\n",
      "r2 score corresponding to random state:  934 is:  0.14676395767796824\n",
      "r2 score corresponding to random state:  935 is:  0.02126999501310123\n",
      "r2 score corresponding to random state:  936 is:  0.04200707228159428\n",
      "r2 score corresponding to random state:  937 is:  0.18154486741242803\n",
      "r2 score corresponding to random state:  938 is:  -0.0657857856392543\n"
     ]
    },
    {
     "name": "stdout",
     "output_type": "stream",
     "text": [
      "r2 score corresponding to random state:  939 is:  0.05142358745900677\n",
      "r2 score corresponding to random state:  940 is:  0.10613998992317408\n",
      "r2 score corresponding to random state:  941 is:  -0.11754412827615934\n",
      "r2 score corresponding to random state:  942 is:  -0.25612659892158085\n",
      "r2 score corresponding to random state:  943 is:  0.04526736526900821\n",
      "r2 score corresponding to random state:  944 is:  0.16117460962519425\n",
      "r2 score corresponding to random state:  945 is:  0.009188834297915838\n",
      "r2 score corresponding to random state:  946 is:  0.1308889876198347\n",
      "r2 score corresponding to random state:  947 is:  -0.0601796380791626\n",
      "r2 score corresponding to random state:  948 is:  0.09215887630434538\n",
      "r2 score corresponding to random state:  949 is:  0.17885114887732045\n",
      "r2 score corresponding to random state:  950 is:  -0.05264483170249479\n",
      "r2 score corresponding to random state:  951 is:  0.1381075920990137\n",
      "r2 score corresponding to random state:  952 is:  0.20538711329242232\n",
      "r2 score corresponding to random state:  953 is:  0.01713726486956102\n",
      "r2 score corresponding to random state:  954 is:  0.039765033094556146\n",
      "r2 score corresponding to random state:  955 is:  -0.0853163387325282\n",
      "r2 score corresponding to random state:  956 is:  0.01736945186902128\n",
      "r2 score corresponding to random state:  957 is:  0.03433941655907591\n",
      "r2 score corresponding to random state:  958 is:  0.02102429516493698\n",
      "r2 score corresponding to random state:  959 is:  0.032568554882489664\n",
      "r2 score corresponding to random state:  960 is:  0.03293232351842357\n",
      "r2 score corresponding to random state:  961 is:  0.10944310811327296\n",
      "r2 score corresponding to random state:  962 is:  0.07209879286335974\n",
      "r2 score corresponding to random state:  963 is:  0.12657749325913592\n",
      "r2 score corresponding to random state:  964 is:  0.10804987953834466\n",
      "r2 score corresponding to random state:  965 is:  0.08411594261760358\n",
      "r2 score corresponding to random state:  966 is:  0.10592972641775478\n",
      "r2 score corresponding to random state:  967 is:  0.1375460189549852\n",
      "r2 score corresponding to random state:  968 is:  0.13819342581428673\n",
      "r2 score corresponding to random state:  969 is:  0.006439289422730532\n",
      "r2 score corresponding to random state:  970 is:  0.13531505399435262\n",
      "r2 score corresponding to random state:  971 is:  -0.036896991104778065\n",
      "r2 score corresponding to random state:  972 is:  -0.08730119711116568\n",
      "r2 score corresponding to random state:  973 is:  0.14655626458521598\n",
      "r2 score corresponding to random state:  974 is:  0.040470343136936204\n",
      "r2 score corresponding to random state:  975 is:  0.08457498113628692\n",
      "r2 score corresponding to random state:  976 is:  0.1484345341102553\n",
      "r2 score corresponding to random state:  977 is:  0.10428165875124062\n",
      "r2 score corresponding to random state:  978 is:  0.13449510974510082\n",
      "r2 score corresponding to random state:  979 is:  -0.08841737888791923\n",
      "r2 score corresponding to random state:  980 is:  0.043939020373858106\n",
      "r2 score corresponding to random state:  981 is:  0.005883539911410329\n",
      "r2 score corresponding to random state:  982 is:  0.10568657717898022\n",
      "r2 score corresponding to random state:  983 is:  -0.03883735147148615\n",
      "r2 score corresponding to random state:  984 is:  0.13030071427213008\n",
      "r2 score corresponding to random state:  985 is:  0.01775359945713384\n",
      "r2 score corresponding to random state:  986 is:  0.1271756954846991\n",
      "r2 score corresponding to random state:  987 is:  0.07630474685024036\n",
      "r2 score corresponding to random state:  988 is:  0.1248991155929603\n",
      "r2 score corresponding to random state:  989 is:  0.1631964423101806\n",
      "r2 score corresponding to random state:  990 is:  0.12727220693037922\n",
      "r2 score corresponding to random state:  991 is:  -0.10901696265903715\n",
      "r2 score corresponding to random state:  992 is:  0.1665126492788186\n",
      "r2 score corresponding to random state:  993 is:  -0.14713194740361324\n",
      "r2 score corresponding to random state:  994 is:  0.12661765542547043\n",
      "r2 score corresponding to random state:  995 is:  0.05175345174804313\n",
      "r2 score corresponding to random state:  996 is:  0.17937716428791295\n",
      "r2 score corresponding to random state:  997 is:  -0.1083958959301361\n",
      "r2 score corresponding to random state:  998 is:  0.08777617879273647\n",
      "r2 score corresponding to random state:  999 is:  0.04589648802380286\n",
      "r2 score corresponding to random state:  1000 is:  -0.025432948593873794\n",
      "\n",
      "\n",
      "max r2 score corresponding to 463 is 0.3138195939903484\n"
     ]
    }
   ],
   "source": [
    "from sklearn.model_selection import train_test_split\n",
    "from sklearn.metrics import mean_absolute_error\n",
    "from sklearn.metrics import mean_squared_error\n",
    "from sklearn.metrics import r2_score\n",
    "from sklearn import linear_model\n",
    "max_r_score=0\n",
    "for r_state in range(42,1001):\n",
    "    x_train,x_test,y_train,y_test=train_test_split(x,y,random_state=r_state,test_size=0.20)\n",
    "    regr=linear_model.LinearRegression()\n",
    "    regr.fit(x_train,y_train)\n",
    "    y_pred=regr.predict(x_test)\n",
    "    r2_scr=r2_score(y_test,y_pred)\n",
    "    print('r2 score corresponding to random state: ', r_state,'is: ',r2_scr)\n",
    "    if r2_scr>max_r_score:\n",
    "        max_r_score=r2_scr\n",
    "        final_r_state=r_state\n",
    "print()\n",
    "print()\n",
    "print('max r2 score corresponding to',final_r_state,'is',max_r_score)"
   ]
  },
  {
   "cell_type": "code",
   "execution_count": 65,
   "metadata": {},
   "outputs": [
    {
     "data": {
      "text/plain": [
       "-3.370136400365318"
      ]
     },
     "execution_count": 65,
     "metadata": {},
     "output_type": "execute_result"
    }
   ],
   "source": [
    "from sklearn.model_selection import cross_val_score\n",
    "cross_val_score(linear_model.LinearRegression(),x,y,cv=31,scoring='r2').mean()"
   ]
  },
  {
   "cell_type": "code",
   "execution_count": 67,
   "metadata": {},
   "outputs": [],
   "source": [
    "x_train,x_test,y_train,y_test=train_test_split(x,y,random_state=31,test_size=0.20)\n",
    "lr=linear_model.LinearRegression()\n",
    "lr.fit(x_train,y_train)\n",
    "y_pred=lr.predict(x_test)"
   ]
  },
  {
   "cell_type": "code",
   "execution_count": 68,
   "metadata": {},
   "outputs": [
    {
     "name": "stdout",
     "output_type": "stream",
     "text": [
      "r2 score is  0.0633252275595445\n",
      "MSE is 0.7766383290558093\n"
     ]
    }
   ],
   "source": [
    "#cross validaion\n",
    "from sklearn.metrics import mean_squared_error\n",
    "from sklearn.metrics import r2_score\n",
    "import numpy as np\n",
    "print('r2 score is ',r2_score(y_test,y_pred))\n",
    "print('MSE is',np.sqrt(mean_squared_error(y_test,y_pred)))\n"
   ]
  },
  {
   "cell_type": "code",
   "execution_count": 70,
   "metadata": {},
   "outputs": [
    {
     "data": {
      "text/plain": [
       "['lr.winedataset.csv']"
      ]
     },
     "execution_count": 70,
     "metadata": {},
     "output_type": "execute_result"
    }
   ],
   "source": [
    "from sklearn.externals import joblib\n",
    "joblib.dump(lr,'lr.winedataset.csv')"
   ]
  }
 ],
 "metadata": {
  "kernelspec": {
   "display_name": "Python 3",
   "language": "python",
   "name": "python3"
  },
  "language_info": {
   "codemirror_mode": {
    "name": "ipython",
    "version": 3
   },
   "file_extension": ".py",
   "mimetype": "text/x-python",
   "name": "python",
   "nbconvert_exporter": "python",
   "pygments_lexer": "ipython3",
   "version": "3.7.6"
  }
 },
 "nbformat": 4,
 "nbformat_minor": 4
}
